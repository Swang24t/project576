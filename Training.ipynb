{
 "cells": [
  {
   "cell_type": "code",
   "execution_count": 1,
   "metadata": {},
   "outputs": [
    {
     "name": "stderr",
     "output_type": "stream",
     "text": [
      "/usr/local/lib/python3.5/dist-packages/sklearn/externals/joblib/__init__.py:15: DeprecationWarning: sklearn.externals.joblib is deprecated in 0.21 and will be removed in 0.23. Please import this functionality directly from joblib, which can be installed with: pip install joblib. If this warning is raised when loading pickled models, you may need to re-serialize those models with scikit-learn 0.21+.\n",
      "  warnings.warn(msg, category=DeprecationWarning)\n"
     ]
    }
   ],
   "source": [
    "import numpy as np # linear algebra\n",
    "import json\n",
    "import cv2\n",
    "from matplotlib import pyplot as plt\n",
    "from skimage import color\n",
    "from skimage.feature import hog\n",
    "from sklearn import svm\n",
    "from sklearn.model_selection import GridSearchCV\n",
    "from sklearn.metrics import classification_report,accuracy_score\n",
    "from sklearn.svm import SVC\n",
    "import os\n",
    "from sklearn.ensemble import RandomForestClassifier\n",
    "from sklearn.externals import joblib\n"
   ]
  },
  {
   "cell_type": "code",
   "execution_count": 2,
   "metadata": {},
   "outputs": [
    {
     "ename": "FileNotFoundError",
     "evalue": "[Errno 2] No such file or directory: 'UTKFace.zip'",
     "output_type": "error",
     "traceback": [
      "\u001b[0;31m---------------------------------------------------------------------------\u001b[0m",
      "\u001b[0;31mFileNotFoundError\u001b[0m                         Traceback (most recent call last)",
      "\u001b[0;32m<ipython-input-2-d5b2d82df7e9>\u001b[0m in \u001b[0;36m<module>\u001b[0;34m\u001b[0m\n\u001b[1;32m      1\u001b[0m \u001b[0;32mimport\u001b[0m \u001b[0mzipfile\u001b[0m\u001b[0;34m\u001b[0m\u001b[0m\n\u001b[0;32m----> 2\u001b[0;31m \u001b[0mzip\u001b[0m \u001b[0;34m=\u001b[0m \u001b[0mzipfile\u001b[0m\u001b[0;34m.\u001b[0m\u001b[0mZipFile\u001b[0m\u001b[0;34m(\u001b[0m\u001b[0;34m'UTKFace.zip'\u001b[0m\u001b[0;34m,\u001b[0m\u001b[0;34m'r'\u001b[0m\u001b[0;34m)\u001b[0m\u001b[0;34m\u001b[0m\u001b[0m\n\u001b[0m\u001b[1;32m      3\u001b[0m \u001b[0mzip\u001b[0m\u001b[0;34m.\u001b[0m\u001b[0mextractall\u001b[0m\u001b[0;34m(\u001b[0m\u001b[0;34m)\u001b[0m\u001b[0;34m\u001b[0m\u001b[0m\n\u001b[1;32m      4\u001b[0m \u001b[0;34m\u001b[0m\u001b[0m\n\u001b[1;32m      5\u001b[0m \u001b[0;31m# import zipfile\u001b[0m\u001b[0;34m\u001b[0m\u001b[0;34m\u001b[0m\u001b[0m\n",
      "\u001b[0;32m/usr/lib/python3.5/zipfile.py\u001b[0m in \u001b[0;36m__init__\u001b[0;34m(self, file, mode, compression, allowZip64)\u001b[0m\n\u001b[1;32m   1007\u001b[0m             \u001b[0;32mwhile\u001b[0m \u001b[0;32mTrue\u001b[0m\u001b[0;34m:\u001b[0m\u001b[0;34m\u001b[0m\u001b[0m\n\u001b[1;32m   1008\u001b[0m                 \u001b[0;32mtry\u001b[0m\u001b[0;34m:\u001b[0m\u001b[0;34m\u001b[0m\u001b[0m\n\u001b[0;32m-> 1009\u001b[0;31m                     \u001b[0mself\u001b[0m\u001b[0;34m.\u001b[0m\u001b[0mfp\u001b[0m \u001b[0;34m=\u001b[0m \u001b[0mio\u001b[0m\u001b[0;34m.\u001b[0m\u001b[0mopen\u001b[0m\u001b[0;34m(\u001b[0m\u001b[0mfile\u001b[0m\u001b[0;34m,\u001b[0m \u001b[0mfilemode\u001b[0m\u001b[0;34m)\u001b[0m\u001b[0;34m\u001b[0m\u001b[0m\n\u001b[0m\u001b[1;32m   1010\u001b[0m                 \u001b[0;32mexcept\u001b[0m \u001b[0mOSError\u001b[0m\u001b[0;34m:\u001b[0m\u001b[0;34m\u001b[0m\u001b[0m\n\u001b[1;32m   1011\u001b[0m                     \u001b[0;32mif\u001b[0m \u001b[0mfilemode\u001b[0m \u001b[0;32min\u001b[0m \u001b[0mmodeDict\u001b[0m\u001b[0;34m:\u001b[0m\u001b[0;34m\u001b[0m\u001b[0m\n",
      "\u001b[0;31mFileNotFoundError\u001b[0m: [Errno 2] No such file or directory: 'UTKFace.zip'"
     ]
    }
   ],
   "source": [
    "import zipfile\n",
    "zip = zipfile.ZipFile('UTKFace.zip','r')\n",
    "zip.extractall()\n",
    "\n",
    "# import zipfile\n",
    "# zip = zipfile.ZipFile('UTKFace.zip','r')\n",
    "# zip.extractall()"
   ]
  },
  {
   "cell_type": "code",
   "execution_count": 73,
   "metadata": {},
   "outputs": [],
   "source": [
    "\n",
    "# # importing required modules \n",
    "# from zipfile import ZipFile \n",
    "  \n",
    "# # specifying the zip file name \n",
    "# file_name = \"UTKFace.zip\"\n",
    "  \n",
    "# # opening the zip file in READ mode \n",
    "# with ZipFile(file_name, 'r') as zip: \n",
    "#     # printing all the contents of the zip file \n",
    "#     zip.printdir() \n",
    "  \n",
    "#     # extracting all the files \n",
    "#     print('Extracting all the files now...') \n",
    "#     zip.extractall() \n",
    "#     print('Done!') "
   ]
  },
  {
   "cell_type": "code",
   "execution_count": 4,
   "metadata": {},
   "outputs": [],
   "source": [
    "root_path=\"/Users/caroline.p.w/Documents/UW/Course/2019 Spr/576/Project/Age-Prediction-master/HOG/\""
   ]
  },
  {
   "cell_type": "code",
   "execution_count": 5,
   "metadata": {},
   "outputs": [],
   "source": [
    "#datalist=os.listdir(\"UTKFace\")\n",
    "\n",
    "datalist=os.listdir(\"crop_part1\")\n"
   ]
  },
  {
   "cell_type": "code",
   "execution_count": 4,
   "metadata": {},
   "outputs": [
    {
     "name": "stdout",
     "output_type": "stream",
     "text": [
      "80\n",
      "80_1_0_20170110141723527.jpg.chip.jpg\n",
      "10\n"
     ]
    }
   ],
   "source": [
    "i=45\n",
    "age=int(datalist[i].split(\"_\")[0])\n",
    "print(age)\n",
    "print(datalist[i])\n",
    "print(int(102/10))"
   ]
  },
  {
   "cell_type": "markdown",
   "metadata": {},
   "source": [
    "# testing"
   ]
  },
  {
   "cell_type": "markdown",
   "metadata": {},
   "source": [
    "10"
   ]
  },
  {
   "cell_type": "code",
   "execution_count": 6,
   "metadata": {},
   "outputs": [],
   "source": [
    "datas=[]\n",
    "lable=[]\n",
    "ages=[]\n",
    "img_length = 80\n",
    "\n",
    "# os.chdir(root_path)\n",
    "for i in range(len(datalist)):\n",
    "    img = cv2.imread(\"crop_part1/\"+datalist[i])\n",
    "    if type(img) is np.ndarray:\n",
    "        img = cv2.cvtColor(img, cv2.COLOR_BGR2RGB)\n",
    "        \n",
    "        rm = cv2.resize(img,(img_length,img_length))\n",
    "        \n",
    "        \n",
    "        #----算对应的lable\n",
    "        #age=abs(int(datalist[i].split(\"_\")[1][:4])-int(datalist[i].split(\"_\")[2][:4]))\n",
    "        age=int(datalist[i].split(\"_\")[0])\n",
    "        duan=int(age/10)#取10~99\n",
    "        if (duan>=1 and duan<=9):\n",
    "            ages.append(age)\n",
    "            lable.append(duan)\n",
    "            datas.append(rm)\n",
    "\n"
   ]
  },
  {
   "cell_type": "markdown",
   "metadata": {},
   "source": [
    "5"
   ]
  },
  {
   "cell_type": "code",
   "execution_count": 60,
   "metadata": {},
   "outputs": [],
   "source": [
    "datas=[]\n",
    "lable=[]\n",
    "ages=[]\n",
    "img_length = 80\n",
    "\n",
    "# os.chdir(root_path)\n",
    "for i in range(len(datalist)):\n",
    "    img = cv2.imread(\"crop_part1/\"+datalist[i])\n",
    "    if type(img) is np.ndarray:\n",
    "        img = cv2.cvtColor(img, cv2.COLOR_BGR2RGB)\n",
    "        \n",
    "        rm = cv2.resize(img,(img_length,img_length))\n",
    "        \n",
    "        \n",
    "        #----算对应的lable\n",
    "        #age=abs(int(datalist[i].split(\"_\")[1][:4])-int(datalist[i].split(\"_\")[2][:4]))\n",
    "        age=int(datalist[i].split(\"_\")[0])\n",
    "        duan=int(age/5)#取5~99\n",
    "        if (duan>=1 and duan<=19):\n",
    "            ages.append(age)\n",
    "            lable.append(duan)\n",
    "            datas.append(rm)\n",
    "\n"
   ]
  },
  {
   "cell_type": "markdown",
   "metadata": {},
   "source": [
    "20"
   ]
  },
  {
   "cell_type": "code",
   "execution_count": 76,
   "metadata": {},
   "outputs": [],
   "source": [
    "datas=[]\n",
    "lable=[]\n",
    "ages=[]\n",
    "img_length = 80\n",
    "\n",
    "# os.chdir(root_path)\n",
    "for i in range(len(datalist)):\n",
    "    img = cv2.imread(\"crop_part1/\"+datalist[i])\n",
    "    if type(img) is np.ndarray:\n",
    "        img = cv2.cvtColor(img, cv2.COLOR_BGR2RGB)\n",
    "        \n",
    "        rm = cv2.resize(img,(img_length,img_length))\n",
    "        \n",
    "        #----算对应的lable\n",
    "        #age=abs(int(datalist[i].split(\"_\")[1][:4])-int(datalist[i].split(\"_\")[2][:4]))\n",
    "        age=int(datalist[i].split(\"_\")[0])\n",
    "        duan=int(age/20)#取20~99\n",
    "        if (duan>=1 and duan<=4):\n",
    "            ages.append(age)\n",
    "            lable.append(duan)\n",
    "            datas.append(rm)\n",
    "\n"
   ]
  },
  {
   "cell_type": "markdown",
   "metadata": {},
   "source": [
    "25"
   ]
  },
  {
   "cell_type": "code",
   "execution_count": 41,
   "metadata": {},
   "outputs": [],
   "source": [
    "datas=[]\n",
    "lable=[]\n",
    "ages=[]\n",
    "img_length = 80\n",
    "\n",
    "# os.chdir(root_path)\n",
    "for i in range(len(datalist)):\n",
    "    img = cv2.imread(\"crop_part1/\"+datalist[i])\n",
    "    if type(img) is np.ndarray:\n",
    "        img = cv2.cvtColor(img, cv2.COLOR_BGR2RGB)\n",
    "        \n",
    "        rm = cv2.resize(img,(img_length,img_length))\n",
    "        \n",
    "        #----算对应的lable\n",
    "        #age=abs(int(datalist[i].split(\"_\")[1][:4])-int(datalist[i].split(\"_\")[2][:4]))\n",
    "        age=int(datalist[i].split(\"_\")[0])\n",
    "        duan=int(age/25)#取25~99\n",
    "        if (duan>=1 and duan<=3):\n",
    "            ages.append(age)\n",
    "            lable.append(duan)\n",
    "            datas.append(rm)\n",
    "\n"
   ]
  },
  {
   "cell_type": "code",
   "execution_count": 77,
   "metadata": {},
   "outputs": [],
   "source": [
    "duan=0\n",
    "if (duan>=1 and duan<=19):\n",
    "            print(\"yes/\")"
   ]
  },
  {
   "cell_type": "code",
   "execution_count": 6,
   "metadata": {},
   "outputs": [
    {
     "name": "stdout",
     "output_type": "stream",
     "text": [
      "19\n",
      "6829\n",
      "[3, 2, 1, 8, 8, 4, 6, 2, 3, 6, 3, 3, 1, 1, 1, 7, 5, 4, 1, 2, 4, 5, 9, 4, 6, 1, 4, 2, 6, 1, 6, 7, 3, 1, 1, 1, 8, 6, 2, 4, 1, 5, 1, 6, 1, 6, 2, 2, 2, 2, 2, 5, 1, 5, 3, 7, 5, 2, 6, 5, 3, 5, 4, 2, 1, 5, 4, 6, 3, 5, 1, 2, 1, 5, 3, 1, 5, 4, 5, 5, 1, 3, 6, 3, 5, 1, 1, 7, 3, 2, 3, 5, 3, 8, 2, 1, 1, 6, 9, 7, 6, 3, 7, 5, 6, 8, 2, 3, 3, 7, 2, 5, 5, 2, 2, 5, 2, 3, 3, 6, 3, 6, 4, 8, 7, 7, 2, 6, 7, 3, 6, 4, 3, 2, 5, 2, 3, 3, 5, 4, 6, 6, 7, 2, 5, 2, 6, 3, 5, 1, 1, 5, 7, 2, 2, 1, 4, 2, 1, 3, 8, 3, 4, 2, 4, 6, 1, 2, 6, 2, 6, 5, 6, 3, 3, 2, 1, 1, 5, 6, 2, 7, 8, 2, 5, 2, 4, 4, 6, 2, 7, 2, 7, 2, 3, 2, 2, 4, 1, 4, 3, 5, 2, 4, 1, 2, 2, 2, 1, 2, 7, 4, 6, 6, 3, 3, 6, 2, 2, 5, 1, 3, 2, 3, 1, 4, 6, 3, 3, 1, 3, 2, 1, 1, 7, 8, 1, 7, 2, 3, 8, 5, 6, 6, 5, 2, 3, 3, 4, 5, 2, 1, 3, 5, 2, 4, 1, 2, 5, 8, 1, 5, 5, 1, 5, 1, 2, 2, 5, 6, 1, 4, 5, 2, 3, 8, 2, 5, 1, 2, 3, 5, 2, 4, 1, 7, 1, 2, 8, 5, 5, 5, 4, 2, 3, 1, 3, 2, 2, 3, 3, 2, 1, 8, 6, 2, 6, 2, 4, 6, 5, 4, 5, 5, 8, 1, 1, 2, 2, 6, 2, 2, 2, 9, 5, 3, 2, 2, 2, 6, 6, 1, 3, 4, 5, 1, 1, 5, 4, 4, 2, 1, 2, 8, 4, 3, 6, 2, 3, 5, 2, 2, 3, 5, 6, 5, 4, 7, 3, 6, 2, 1, 2, 3, 4, 2, 6, 1, 2, 1, 8, 1, 3, 1, 1, 5, 2, 1, 4, 4, 8, 5, 7, 1, 8, 9, 6, 3, 5, 3, 7, 7, 1, 4, 2, 2, 3, 6, 8, 1, 9, 5, 2, 5, 5, 2, 3, 5, 8, 6, 3, 5, 1, 2, 5, 1, 2, 3, 2, 3, 6, 8, 1, 3, 2, 5, 6, 4, 2, 6, 2, 3, 3, 5, 5, 6, 2, 1, 8, 3, 2, 1, 3, 5, 3, 7, 2, 7, 1, 2, 1, 7, 2, 5, 1, 1, 4, 3, 2, 5, 7, 5, 5, 5, 2, 5, 2, 6, 2, 4, 1, 3, 2, 2, 1, 2, 2, 4, 5, 7, 1, 8, 8, 3, 4, 3, 5, 7, 3, 1, 7, 6, 2, 3, 7, 3, 1, 6, 6, 8, 5, 1, 4, 1, 3, 2, 4, 2, 5, 8, 6, 1, 2, 6, 2, 2, 5, 1, 2, 1, 5, 2, 4, 1, 2, 5, 6, 3, 2, 3, 2, 2, 5, 2, 2, 2, 5, 5, 2, 2, 7, 2, 5, 2, 4, 1, 5, 2, 4, 7, 4, 6, 3, 1, 2, 7, 2, 4, 4, 5, 1, 5, 8, 1, 4, 3, 8, 6, 1, 3, 2, 3, 7, 5, 1, 5, 1, 3, 4, 7, 3, 2, 2, 3, 6, 5, 2, 5, 2, 3, 1, 6, 2, 3, 8, 6, 1, 7, 6, 4, 3, 2, 4, 1, 3, 4, 1, 5, 6, 1, 5, 5, 1, 2, 2, 2, 2, 2, 1, 2, 3, 6, 4, 2, 2, 9, 4, 8, 3, 5, 3, 7, 8, 1, 3, 3, 5, 9, 5, 3, 1, 9, 5, 5, 1, 1, 4, 7, 1, 4, 5, 2, 6, 6, 5, 1, 2, 7, 2, 5, 4, 5, 4, 5, 5, 8, 2, 2, 6, 2, 2, 5, 4, 2, 2, 2, 1, 1, 1, 6, 5, 3, 5, 1, 5, 5, 5, 2, 1, 5, 1, 2, 5, 4, 2, 3, 5, 8, 5, 1, 6, 4, 1, 3, 6, 5, 2, 6, 7, 7, 6, 3, 2, 9, 6, 6, 3, 6, 7, 1, 2, 6, 2, 6, 5, 8, 1, 1, 2, 1, 4, 3, 2, 5, 7, 1, 2, 3, 3, 2, 1, 5, 4, 1, 3, 1, 2, 1, 1, 6, 3, 2, 2, 2, 4, 2, 1, 1, 9, 1, 3, 8, 6, 2, 2, 1, 6, 1, 5, 3, 5, 2, 1, 2, 7, 1, 4, 8, 2, 2, 4, 2, 2, 1, 9, 6, 2, 5, 3, 1, 2, 6, 4, 3, 5, 7, 4, 2, 7, 2, 2, 6, 4, 3, 3, 1, 8, 3, 5, 3, 7, 2, 8, 7, 3, 2, 2, 5, 2, 3, 6, 8, 2, 4, 2, 5, 1, 6, 2, 1, 2, 4, 5, 5, 1, 2, 1, 4, 1, 1, 1, 4, 5, 5, 8, 8, 5, 3, 2, 6, 3, 1, 5, 5, 6, 4, 2, 5, 6, 3, 7, 3, 3, 7, 3, 1, 1, 3, 2, 5, 5, 2, 2, 8, 1, 3, 7, 5, 4, 1, 5, 8, 1, 1, 2, 2, 2, 1, 6, 6, 1, 1, 6, 6, 2, 4, 7, 5, 7, 2, 1, 3, 5, 2, 1, 2, 2, 2, 2, 3, 2, 2, 3, 4, 2, 4, 5, 8, 2, 5, 5, 1, 4, 2, 4, 3, 5, 5, 2, 2, 1, 4, 5, 2, 8, 5, 3, 2, 7, 7, 5, 3, 4, 4, 3, 8, 1, 2, 2, 1, 1, 5, 1, 1, 1, 4, 1, 4, 2, 3, 6, 8, 1, 5, 3, 2, 2, 4, 2, 4, 1, 4, 2, 5, 2, 8, 1, 8, 2, 7, 2, 5, 7, 4, 4, 1, 6, 6, 2, 8, 5, 6, 2, 3, 1, 3, 2, 2, 1, 1, 8, 7, 2, 3, 3, 5, 7, 1, 1, 4, 2, 5, 4, 1, 2, 1, 4, 6, 6, 3, 7, 1, 1, 5, 4, 2, 8, 6, 2, 2, 3, 3, 5, 1, 2, 5, 7, 2, 1, 7, 1, 5, 6, 4, 4, 3, 3, 4, 6, 3, 2, 2, 3, 6, 2, 4, 2, 9, 4, 6, 2, 4, 1, 2, 6, 8, 4, 4, 9, 2, 6, 6, 1, 5, 1, 8, 9, 1, 3, 1, 7, 2, 1, 5, 2, 3, 4, 4, 4, 8, 1, 1, 1, 1, 4, 1, 2, 3, 1, 7, 1, 2, 5, 7, 2, 7, 4, 3, 1, 5, 2, 3, 7, 3, 2, 3, 1, 1, 1, 2, 3, 1, 3, 2, 2, 4, 2, 1, 2, 5, 5, 3, 4, 6, 5, 3, 2, 1, 1, 7, 3, 3, 4, 7, 2, 1, 3, 3, 2, 2, 3, 5, 6, 4, 3, 3, 6, 2, 2, 1, 2, 2, 5, 2, 2, 3, 1, 5, 5, 3, 3, 7, 3, 2, 7, 6, 3, 2, 9, 3, 1, 1, 2, 3, 7, 4, 7, 1, 6, 2, 2, 5, 7, 4, 2, 4, 1, 5, 2, 1, 1, 2, 3, 3, 5, 3, 3, 2, 1, 5, 3, 3, 1, 4, 6, 9, 7, 8, 1, 2, 2, 4, 2, 1, 6, 5, 4, 3, 8, 2, 2, 3, 8, 5, 4, 6, 6, 2, 5, 3, 4, 2, 8, 5, 1, 2, 5, 3, 1, 2, 3, 2, 6, 2, 1, 3, 1, 9, 3, 1, 7, 6, 6, 2, 1, 4, 4, 2, 1, 6, 3, 6, 4, 3, 1, 2, 1, 3, 6, 5, 7, 2, 1, 2, 3, 3, 3, 3, 5, 1, 1, 2, 1, 5, 4, 1, 1, 2, 4, 2, 6, 1, 7, 5, 5, 1, 1, 1, 1, 5, 3, 2, 1, 5, 3, 6, 5, 8, 2, 3, 1, 5, 7, 4, 2, 3, 1, 9, 6, 4, 2, 5, 1, 5, 2, 4, 4, 2, 4, 1, 2, 3, 8, 1, 1, 3, 3, 2, 5, 1, 2, 5, 2, 6, 4, 2, 5, 6, 4, 5, 4, 2, 1, 3, 6, 1, 1, 3, 6, 7, 5, 5, 5, 6, 5, 7, 2, 3, 8, 4, 2, 6, 1, 7, 3, 1, 2, 3, 6, 5, 4, 2, 5, 1, 2, 2, 1, 1, 4, 4, 1, 1, 2, 5, 1, 2, 7, 3, 3, 2, 1, 7, 1, 3, 3, 3, 6, 2, 3, 2, 1, 5, 5, 3, 2, 3, 4, 2, 2, 2, 1, 5, 6, 1, 6, 5, 2, 8, 1, 2, 2, 2, 1, 2, 1, 2, 3, 1, 2, 6, 5, 2, 4, 6, 2, 9, 2, 1, 4, 6, 3, 6, 1, 3, 2, 4, 3, 1, 1, 1, 2, 5, 2, 4, 6, 1, 6, 1, 2, 1, 7, 1, 4, 5, 2, 5, 7, 1, 7, 8, 8, 8, 1, 3, 1, 1, 1, 3, 5, 2, 1, 2, 7, 6, 3, 1, 2, 1, 5, 4, 6, 2, 2, 1, 3, 5, 7, 2, 1, 7, 1, 3, 3, 3, 3, 5, 1, 4, 7, 1, 3, 4, 5, 2, 4, 6, 2, 6, 8, 5, 5, 4, 1, 2, 2, 5, 5, 8, 4, 6, 8, 2, 1, 3, 2, 2, 2, 4, 8, 3, 3, 1, 5, 2, 5, 2, 2, 8, 3, 3, 5, 5, 7, 1, 3, 5, 1, 5, 1, 2, 3, 5, 1, 1, 8, 3, 4, 2, 1, 3, 1, 1, 1, 3, 7, 3, 8, 6, 4, 3, 2, 2, 2, 2, 6, 1, 1, 4, 4, 4, 3, 3, 3, 9, 5, 4, 3, 2, 1, 3, 5, 6, 1, 4, 7, 1, 2, 2, 2, 3, 5, 5, 1, 6, 2, 3, 6, 2, 1, 5, 1, 2, 3, 2, 6, 1, 3, 1, 1, 4, 2, 6, 2, 2, 7, 2, 2, 5, 1, 2, 3, 6, 3, 7, 6, 1, 3, 1, 6, 5, 3, 2, 1, 3, 2, 3, 3, 2, 1, 5, 8, 2, 8, 3, 3, 3, 6, 2, 1, 5, 2, 6, 5, 2, 1, 2, 2, 2, 5, 8, 1, 5, 1, 1, 3, 2, 5, 6, 1, 8, 4, 3, 1, 5, 3, 3, 8, 2, 1, 2, 6, 2, 4, 2, 2, 2, 1, 5, 1, 4, 5, 2, 2, 3, 6, 4, 3, 5, 2, 1, 3, 4, 3, 5, 5, 5, 3, 1, 2, 1, 1, 1, 2, 2, 6, 7, 2, 1, 3, 3, 1, 3, 4, 7, 5, 3, 4, 2, 4, 1, 6, 1, 2, 5, 4, 2, 3, 2, 1, 2, 8, 1, 1, 7, 1, 7, 2, 8, 5, 5, 2, 1, 6, 6, 7, 3, 5, 3, 3, 3, 3, 5, 2, 2, 5, 2, 2, 9, 4, 2, 3, 6, 7, 8, 6, 3, 3, 1, 6, 3, 5, 1, 5, 1, 3, 3, 8, 7, 6, 4, 4, 5, 6, 2, 2, 2, 1, 2, 2, 3, 2, 2, 5, 2, 1, 8, 2, 4, 5, 6, 7, 2, 4, 5, 5, 3, 4, 3, 2, 6, 4, 5, 2, 5, 2, 5, 5, 5, 5, 3, 2, 2, 4, 3, 6, 5, 2, 6, 3, 1, 5, 8, 2, 3, 1, 4, 2, 3, 1, 3, 3, 4, 1, 4, 8, 3, 4, 3, 2, 3, 3, 3, 1, 6, 9, 4, 2, 5, 6, 2, 3, 5, 2, 2, 3, 1, 5, 1, 6, 3, 3, 2, 6, 4, 7, 1, 5, 3, 3, 3, 6, 1, 6, 1, 2, 3, 2, 3, 3, 2, 2, 8, 5, 4, 5, 1, 2, 4, 3, 1, 8, 3, 1, 5, 2, 5, 2, 1, 4, 1, 2, 3, 8, 1, 3, 1, 1, 3, 1, 2, 6, 1, 2, 5, 1, 5, 2, 7, 4, 8, 5, 2, 2, 3, 2, 2, 1, 2, 2, 2, 2, 6, 8, 2, 9, 6, 8, 6, 3, 1, 2, 3, 6, 5, 1, 4, 5, 2, 6, 2, 2, 1, 1, 5, 2, 6, 6, 1, 1, 2, 6, 1, 4, 3, 6, 4, 1, 4, 3, 2, 2, 1, 3, 4, 2, 4, 4, 3, 7, 2, 3, 4, 4, 8, 2, 8, 3, 1, 2, 4, 3, 3, 6, 4, 2, 7, 2, 4, 6, 5, 3, 5, 1, 6, 5, 6, 4, 8, 3, 2, 7, 6, 4, 3, 3, 2, 6, 1, 1, 3, 4, 2, 1, 1, 5, 2, 6, 8, 2, 6, 3, 8, 5, 5, 5, 5, 6, 6, 1, 3, 4, 5, 1, 5, 2, 5, 6, 2, 5, 1, 1, 1, 1, 7, 2, 2, 2, 5, 1, 2, 8, 5, 3, 3, 1, 6, 3, 7, 3, 2, 1, 3, 1, 3, 6, 3, 5, 5, 8, 7, 2, 4, 9, 1, 7, 2, 7, 2, 6, 2, 1, 8, 2, 8, 1, 4, 5, 7, 4, 5, 2, 2, 5, 5, 1, 1, 6, 5, 4, 7, 2, 2, 7, 7, 1, 2, 5, 5, 3, 2, 6, 2, 8, 2, 2, 5, 4, 3, 3, 1, 4, 7, 7, 5, 3, 7, 4, 8, 8, 6, 1, 7, 3, 3, 3, 8, 6, 3, 1, 5, 2, 4, 1, 6, 5, 7, 5, 9, 4, 2, 3, 1, 8, 3, 1, 4, 6, 8, 9, 2, 3, 5, 5, 7, 5, 5, 2, 4, 4, 7, 6, 5, 6, 3, 8, 7, 1, 1, 4, 5, 2, 3, 6, 3, 3, 4, 1, 2, 8, 3, 3, 3, 1, 6, 8, 1, 5, 5, 2, 6, 5, 6, 1, 1, 2, 1, 7, 7, 1, 7, 2, 6, 1, 2, 4, 3, 5, 7, 4, 7, 3, 2, 1, 6, 2, 4, 3, 3, 2, 8, 2, 8, 3, 5, 3, 1, 3, 1, 4, 2, 2, 1, 7, 1, 3, 1, 1, 5, 1, 6, 6, 4, 1, 2, 2, 6, 5, 2, 2, 4, 5, 1, 2, 1, 2, 1, 2, 1, 4, 3, 1, 6, 5, 8, 2, 7, 1, 8, 3, 6, 6, 3, 3, 2, 6, 1, 4, 7, 1, 5, 2, 6, 6, 2, 7, 6, 6, 6, 6, 1, 4, 5, 5, 2, 1, 7, 1, 5, 2, 3, 5, 2, 2, 1, 1, 1, 3, 1, 3, 7, 1, 5, 2, 2, 2, 2, 7, 1, 2, 2, 1, 4, 3, 3, 1, 1, 9, 3, 1, 7, 6, 3, 2, 7, 6, 2, 3, 1, 1, 5, 1, 7, 6, 1, 2, 5, 4, 3, 2, 3, 4, 5, 3, 1, 2, 1, 6, 4, 1, 5, 1, 2, 1, 7, 6, 3, 2, 4, 2, 4, 8, 6, 2, 1, 3, 1, 7, 9, 1, 2, 7, 6, 3, 2, 1, 5, 2, 2, 1, 6, 3, 5, 5, 2, 2, 2, 6, 6, 2, 8, 8, 3, 2, 4, 6, 5, 1, 2, 3, 2, 6, 1, 3, 3, 5, 5, 5, 6, 5, 5, 2, 5, 2, 1, 8, 2, 2, 1, 1, 5, 4, 5, 4, 1, 2, 5, 8, 3, 5, 2, 5, 1, 1, 5, 2, 4, 2, 5, 7, 2, 1, 1, 3, 2, 7, 1, 2, 2, 4, 2, 4, 1, 4, 6, 3, 2, 3, 3, 2, 1, 3, 6, 5, 5, 4, 6, 6, 1, 3, 2, 7, 2, 1, 9, 3, 5, 3, 6, 5, 1, 5, 3, 1, 5, 2, 1, 2, 1, 7, 2, 3, 7, 3, 5, 2, 2, 5, 8, 1, 4, 1, 6, 2, 5, 3, 1, 1, 1, 3, 6, 3, 3, 7, 3, 3, 4, 2, 2, 2, 3, 6, 7, 6, 2, 5, 8, 2, 1, 7, 5, 8, 4, 6, 2, 5, 2, 1, 5, 7, 5, 3, 1, 2, 2, 2, 3, 3, 1, 5, 1, 2, 1, 5, 4, 2, 1, 1, 3, 2, 8, 3, 7, 1, 5, 4, 3, 4, 1, 5, 5, 2, 4, 2, 1, 1, 8, 6, 1, 4, 6, 2, 2, 7, 1, 1, 3, 5, 2, 6, 7, 2, 4, 3, 2, 2, 2, 5, 5, 3, 1, 2, 5, 2, 1, 8, 7, 5, 5, 8, 8, 5, 2, 2, 3, 1, 7, 4, 1, 1, 2, 3, 2, 4, 4, 6, 1, 1, 2, 1, 2, 4, 1, 5, 3, 1, 2, 2, 8, 5, 3, 5, 2, 3, 6, 5, 3, 5, 2, 1, 4, 4, 4, 5, 3, 2, 6, 6, 3, 1, 4, 5, 3, 6, 3, 4, 1, 4, 3, 5, 3, 6, 2, 7, 4, 1, 5, 2, 2, 4, 8, 1, 3, 2, 6, 3, 1, 1, 3, 3, 2, 3, 7, 2, 4, 8, 5, 2, 1, 5, 6, 7, 5, 4, 3, 9, 4, 3, 3, 3, 6, 5, 5, 4, 8, 2, 2, 3, 6, 5, 2, 2, 4, 3, 1, 5, 1, 5, 3, 5, 2, 8, 4, 2, 1, 1, 1, 2, 2, 2, 3, 4, 1, 6, 7, 2, 7, 5, 2, 1, 1, 2, 1, 9, 4, 2, 1, 2, 3, 2, 2, 3, 5, 6, 2, 7, 2, 5, 4, 1, 4, 6, 2, 3, 9, 2, 1, 2, 9, 2, 5, 3, 3, 6, 3, 5, 1, 5, 6, 2, 8, 2, 6, 2, 7, 3, 2, 1, 4, 5, 3, 2, 3, 5, 2, 4, 2, 1, 2, 7, 1, 1, 6, 6, 1, 1, 5, 1, 1, 2, 1, 6, 5, 3, 1, 1, 3, 1, 8, 4, 2, 5, 3, 2, 3, 1, 1, 5, 5, 6, 5, 5, 1, 3, 1, 5, 4, 2, 2, 2, 3, 2, 2, 3, 1, 3, 2, 3, 2, 7, 4, 2, 1, 2, 3, 4, 3, 6, 6, 3, 2, 5, 8, 3, 4, 3, 5, 4, 1, 3, 4, 3, 1, 1, 5, 2, 1, 7, 2, 4, 5, 4, 2, 5, 2, 2, 9, 2, 1, 5, 5, 2, 7, 6, 3, 9, 3, 2, 1, 3, 3, 2, 2, 3, 2, 1, 7, 3, 5, 4, 3, 8, 3, 2, 4, 7, 7, 3, 1, 2, 4, 3, 3, 1, 5, 3, 4, 2, 3, 3, 9, 6, 5, 1, 1, 4, 8, 5, 7, 2, 3, 5, 4, 2, 2, 3, 7, 1, 3, 2, 5, 7, 5, 1, 5, 6, 2, 4, 3, 8, 1, 4, 8, 2, 5, 1, 3, 7, 5, 6, 7, 2, 4, 9, 1, 8, 6, 8, 9, 4, 3, 3, 2, 3, 5, 2, 3, 6, 1, 7, 1, 6, 3, 2, 3, 2, 1, 6, 4, 1, 4, 4, 2, 3, 6, 1, 6, 1, 7, 4, 6, 5, 3, 3, 2, 7, 8, 3, 8, 6, 3, 3, 3, 6, 2, 2, 7, 8, 6, 5, 2, 3, 8, 5, 5, 5, 2, 5, 8, 3, 2, 1, 2, 3, 6, 2, 2, 3, 1, 4, 3, 4, 7, 5, 7, 1, 9, 5, 4, 2, 5, 6, 1, 2, 1, 4, 6, 7, 4, 9, 1, 8, 3, 1, 3, 7, 1, 2, 4, 2, 5, 2, 2, 6, 2, 4, 7, 2, 6, 1, 7, 7, 5, 5, 1, 3, 1, 1, 2, 6, 3, 9, 4, 1, 7, 1, 1, 4, 3, 3, 8, 4, 6, 4, 3, 6, 4, 1, 4, 4, 1, 6, 5, 5, 2, 1, 9, 3, 6, 5, 2, 5, 1, 5, 2, 9, 6, 3, 8, 3, 2, 9, 6, 5, 4, 2, 6, 4, 2, 5, 8, 8, 6, 6, 4, 3, 7, 6, 5, 8, 1, 2, 5, 2, 2, 2, 4, 6, 2, 6, 2, 6, 2, 7, 6, 4, 8, 2, 6, 7, 6, 6, 3, 1, 1, 2, 1, 1, 4, 1, 5, 9, 3, 5, 1, 6, 2, 6, 4, 2, 7, 8, 6, 2, 2, 2, 2, 8, 3, 2, 3, 3, 5, 2, 6, 8, 2, 5, 2, 3, 9, 4, 3, 5, 4, 8, 2, 2, 8, 7, 7, 7, 2, 1, 1, 4, 3, 6, 2, 2, 2, 7, 5, 1, 9, 8, 1, 5, 3, 1, 7, 1, 1, 8, 2, 8, 5, 9, 2, 3, 3, 3, 1, 3, 5, 3, 2, 5, 1, 5, 5, 4, 2, 3, 3, 4, 2, 1, 1, 3, 2, 6, 9, 6, 7, 3, 6, 4, 6, 3, 8, 5, 1, 3, 2, 9, 4, 4, 5, 6, 2, 5, 6, 8, 2, 5, 3, 1, 1, 2, 6, 6, 2, 8, 2, 5, 2, 7, 9, 4, 1, 4, 6, 6, 2, 6, 2, 2, 2, 1, 2, 8, 5, 3, 1, 6, 7, 3, 1, 9, 1, 2, 3, 4, 7, 3, 3, 4, 5, 3, 2, 4, 5, 6, 5, 4, 2, 1, 2, 5, 1, 5, 6, 5, 1, 7, 6, 8, 5, 3, 6, 1, 6, 6, 1, 1, 3, 5, 6, 4, 6, 5, 4, 2, 5, 5, 8, 2, 6, 3, 1, 5, 1, 5, 2, 1, 7, 2, 2, 2, 1, 5, 7, 3, 2, 2, 6, 2, 2, 3, 2, 2, 4, 5, 2, 5, 2, 4, 1, 2, 4, 6, 2, 4, 1, 7, 9, 8, 5, 4, 4, 6, 8, 2, 5, 2, 6, 2, 2, 2, 6, 5, 1, 2, 6, 6, 6, 2, 6, 6, 5, 3, 3, 5, 2, 6, 3, 4, 6, 2, 5, 7, 2, 1, 5, 5, 1, 2, 3, 3, 2, 1, 2, 2, 8, 6, 1, 6, 2, 2, 1, 3, 5, 2, 5, 6, 5, 6, 3, 4, 2, 2, 5, 5, 1, 3, 1, 1, 7, 5, 8, 3, 5, 8, 5, 2, 2, 8, 4, 5, 6, 7, 3, 2, 2, 4, 2, 5, 3, 1, 5, 2, 4, 2, 1, 1, 8, 8, 6, 6, 6, 1, 2, 5, 2, 6, 4, 3, 9, 1, 1, 2, 5, 2, 5, 7, 7, 8, 6, 3, 8, 3, 3, 5, 3, 2, 1, 6, 5, 6, 8, 6, 3, 4, 2, 5, 2, 5, 4, 6, 4, 4, 3, 3, 1, 5, 2, 1, 2, 1, 6, 1, 2, 8, 4, 3, 5, 4, 5, 1, 5, 2, 8, 3, 5, 3, 3, 6, 1, 4, 1, 8, 2, 1, 1, 5, 1, 6, 2, 5, 6, 5, 2, 6, 5, 4, 3, 2, 6, 3, 3, 3, 1, 2, 2, 2, 4, 3, 1, 2, 4, 5, 1, 5, 3, 3, 7, 1, 1, 4, 2, 7, 6, 1, 8, 1, 1, 1, 2, 1, 5, 3, 2, 1, 7, 5, 4, 3, 2, 6, 3, 5, 1, 1, 2, 2, 4, 6, 2, 4, 1, 2, 1, 2, 2, 9, 2, 1, 5, 5, 5, 1, 1, 1, 2, 4, 3, 3, 1, 6, 1, 6, 7, 2, 2, 4, 5, 1, 5, 8, 3, 3, 6, 2, 7, 3, 1, 7, 2, 4, 6, 2, 1, 1, 6, 8, 8, 2, 2, 2, 2, 1, 2, 8, 7, 2, 1, 2, 3, 1, 7, 4, 3, 1, 1, 4, 8, 1, 6, 8, 1, 1, 3, 1, 2, 5, 2, 1, 2, 5, 1, 5, 2, 5, 7, 1, 3, 1, 2, 7, 4, 2, 1, 5, 5, 3, 5, 5, 2, 2, 9, 6, 2, 1, 7, 7, 1, 3, 5, 6, 9, 3, 2, 1, 5, 3, 4, 4, 5, 1, 5, 3, 7, 5, 2, 2, 1, 1, 3, 5, 1, 2, 2, 1, 3, 6, 5, 1, 8, 6, 2, 8, 6, 4, 7, 1, 2, 2, 8, 1, 1, 1, 4, 1, 9, 2, 7, 3, 1, 3, 6, 3, 3, 9, 7, 8, 2, 2, 5, 2, 1, 5, 2, 1, 1, 6, 5, 3, 3, 3, 3, 6, 3, 2, 3, 1, 6, 2, 6, 1, 6, 8, 6, 2, 2, 6, 3, 2, 1, 5, 2, 1, 7, 6, 3, 1, 2, 3, 2, 2, 1, 1, 8, 6, 3, 1, 1, 5, 5, 8, 7, 2, 2, 2, 4, 1, 6, 2, 2, 6, 3, 2, 5, 2, 3, 1, 4, 2, 5, 2, 5, 1, 6, 3, 5, 3, 7, 1, 4, 1, 1, 2, 1, 3, 2, 2, 9, 3, 3, 1, 1, 1, 2, 6, 7, 1, 8, 2, 4, 7, 5, 6, 3, 4, 6, 8, 1, 1, 7, 3, 1, 2, 2, 4, 1, 1, 2, 5, 4, 2, 7, 1, 5, 5, 6, 6, 1, 6, 5, 2, 4, 5, 2, 3, 3, 4, 2, 2, 5, 4, 5, 9, 4, 1, 3, 9, 8, 2, 2, 6, 1, 4, 2, 6, 4, 3, 4, 3, 8, 2, 3, 5, 3, 4, 2, 3, 6, 3, 3, 2, 2, 3, 5, 8, 3, 3, 2, 7, 3, 2, 1, 6, 5, 2, 2, 5, 4, 3, 3, 2, 6, 8, 1, 2, 2, 3, 5, 1, 3, 2, 1, 1, 2, 1, 1, 1, 9, 3, 2, 7, 1, 9, 5, 2, 2, 2, 4, 1, 5, 7, 6, 2, 7, 6, 5, 5, 4, 5, 3, 7, 5, 2, 5, 2, 1, 2, 3, 1, 1, 4, 8, 5, 1, 3, 4, 2, 7, 2, 5, 2, 6, 4, 3, 2, 2, 7, 1, 3, 3, 4, 2, 1, 5, 4, 5, 2, 3, 7, 2, 1, 5, 7, 2, 2, 2, 5, 2, 1, 5, 3, 2, 1, 3, 9, 1, 6, 2, 2, 3, 2, 2, 2, 1, 1, 1, 4, 2, 1, 6, 1, 2, 5, 5, 1, 7, 1, 5, 4, 1, 2, 6, 4, 5, 1, 6, 3, 1, 1, 2, 2, 3, 5, 1, 4, 2, 2, 2, 1, 4, 2, 2, 4, 6, 2, 8, 2, 2, 6, 3, 2, 2, 8, 1, 5, 5, 1, 2, 4, 3, 5, 4, 2, 6, 2, 4, 5, 4, 8, 2, 2, 6, 3, 1, 2, 4, 8, 5, 5, 7, 4, 8, 5, 4, 2, 3, 6, 4, 4, 7, 2, 4, 1, 3, 1, 3, 8, 8, 5, 2, 2, 5, 6, 4, 1, 3, 1, 5, 7, 4, 2, 5, 1, 3, 8, 6, 2, 9, 6, 8, 5, 3, 6, 3, 4, 2, 6, 4, 2, 1, 5, 9, 1, 6, 1, 1, 1, 2, 6, 1, 2, 7, 2, 4, 2, 5, 5, 8, 2, 2, 6, 5, 1, 5, 5, 1, 1, 5, 1, 1, 1, 2, 5, 5, 1, 1, 8, 3, 2, 1, 6, 1, 5, 5, 6, 1, 5, 2, 2, 1, 7, 5, 1, 1, 5, 3, 6, 1, 3, 1, 2, 5, 3, 3, 6, 6, 5, 8, 2, 6, 5, 3, 3, 4, 6, 1, 2, 4, 2, 2, 6, 2, 4, 1, 4, 5, 5, 4, 6, 2, 5, 2, 6, 5, 3, 1, 8, 5, 3, 2, 3, 4, 3, 1, 6, 8, 3, 4, 2, 7, 6, 2, 3, 6, 1, 4, 2, 8, 3, 2, 6, 5, 5, 4, 4, 3, 1, 4, 1, 6, 1, 7, 3, 6, 2, 2, 6, 1, 4, 5, 4, 7, 3, 4, 5, 2, 8, 4, 3, 3, 2, 1, 5, 6, 3, 7, 3, 1, 2, 5, 5, 5, 8, 3, 5, 4, 5, 7, 1, 5, 5, 6, 2, 4, 4, 1, 5, 2, 1, 4, 2, 6, 3, 4, 8, 8, 5, 2, 2, 5, 5, 3, 2, 2, 4, 1, 1, 3, 1, 1, 1, 2, 4, 4, 1, 2, 4, 6, 4, 3, 7, 2, 2, 2, 8, 1, 6, 3, 3, 6, 1, 8, 1, 1, 1, 6, 2, 3, 3, 7, 7, 3, 2, 3, 1, 5, 4, 1, 7, 7, 2, 7, 3, 4, 6, 5, 1, 1, 2, 1, 1, 4, 2, 1, 7, 1, 2, 8, 1, 9, 3, 7, 7, 2, 1, 4, 1, 5, 1, 4, 9, 1, 2, 6, 6, 4, 7, 3, 5, 4, 9, 2, 1, 1, 1, 3, 5, 2, 6, 1, 1, 1, 1, 1, 7, 2, 2, 6, 2, 4, 2, 8, 5, 6, 7, 1, 2, 6, 8, 3, 1, 2, 7, 3, 2, 7, 2, 4, 3, 6, 2, 1, 5, 6, 3, 3, 7, 8, 8, 4, 3, 2, 4, 5, 3, 4, 5, 7, 2, 4, 5, 1, 2, 3, 2, 7, 2, 2, 4, 1, 6, 3, 2, 1, 2, 1, 2, 3, 3, 5, 1, 1, 2, 1, 2, 2, 3, 1, 6, 2, 1, 1, 6, 3, 1, 2, 6, 1, 6, 2, 2, 4, 5, 8, 5, 4, 6, 5, 5, 5, 3, 2, 2, 5, 2, 7, 3, 3, 6, 6, 1, 2, 2, 7, 2, 3, 6, 9, 3, 4, 6, 2, 3, 4, 6, 5, 8, 5, 4, 7, 2, 2, 5, 1, 6, 5, 4, 4, 3, 6, 1, 2, 1, 3, 5, 6, 1, 1, 6, 5, 7, 4, 4, 2, 5, 2, 2, 2, 8, 2, 2, 3, 2, 2, 1, 2, 3, 4, 5, 2, 3, 5, 4, 2, 6, 2, 3, 6, 8, 5, 4, 4, 3, 8, 3, 1, 5, 4, 6, 2, 1, 2, 2, 5, 7, 2, 2, 4, 5, 2, 5, 1, 1, 4, 2, 8, 5, 1, 1, 2, 1, 2, 1, 2, 7, 6, 3, 5, 1, 8, 1, 1, 3, 3, 2, 5, 2, 5, 4, 8, 1, 6, 1, 1, 3, 2, 3, 1, 3, 5, 3, 5, 3, 2, 3, 3, 3, 4, 2, 2, 1, 2, 2, 6, 1, 2, 2, 5, 1, 5, 6, 2, 5, 1, 5, 2, 3, 3, 6, 2, 1, 2, 3, 2, 2, 2, 7, 5, 5, 7, 1, 2, 3, 2, 1, 3, 1, 1, 1, 3, 5, 5, 7, 1, 2, 2, 3, 5, 8, 3, 2, 2, 1, 5, 1, 1, 4, 2, 4, 1, 2, 2, 3, 1, 4, 5, 6, 4, 1, 7, 3, 3, 3, 3, 5, 4, 1, 5, 5, 6, 3, 2, 3, 1, 4, 6, 2, 3, 5, 6, 5, 1, 2, 1, 3, 2, 3, 7, 3, 2, 4, 5, 6, 1, 4, 3, 6, 1, 3, 1, 3, 4, 6, 9, 3, 8, 9, 7, 1, 2, 3, 1, 4, 4, 7, 2, 1, 5, 2, 5, 3, 3, 6, 5, 4, 3, 6, 1, 4, 6, 1, 6, 6, 7, 4, 3, 1, 2, 3, 3, 7, 2, 2, 4, 2, 5, 3, 1, 6, 4, 8, 1, 5, 5, 6, 2, 3, 2, 5, 1, 1, 1, 4, 3, 3, 2, 3, 2, 3, 4, 6, 3, 2, 5, 7, 4, 3, 5, 7, 8, 4, 8, 5, 5, 4, 1, 1, 5, 5, 4, 3, 2, 5, 3, 2, 6, 2, 2, 5, 3, 1, 2, 6, 8, 3, 3, 1, 4, 2, 4, 3, 4, 6, 2, 4, 7, 4, 5, 6, 5, 2, 5, 3, 1, 2, 2, 2, 5, 4, 2, 5, 5, 1, 5, 5, 2, 2, 1, 2, 2, 3, 8, 1, 4, 4, 1, 3, 7, 5, 3, 1, 3, 1, 3, 7, 7, 1, 3, 2, 3, 4, 1, 8, 3, 5, 6, 2, 2, 3, 2, 4, 6, 1, 1, 2, 6, 1, 3, 4, 6, 2, 2, 2, 5, 3, 5, 2, 5, 3, 8, 5, 6, 1, 5, 2, 3, 5, 1, 3, 3, 4, 2, 8, 3, 8, 2, 4, 5, 7, 3, 1, 2, 4, 1, 4, 5, 5, 2, 3, 7, 1, 6, 2, 1, 4, 3, 4, 4, 6, 1, 1, 3, 7, 1, 1, 8, 2, 2, 2, 3, 2, 5, 8, 3, 1, 3, 4, 2, 2, 2, 6, 6, 2, 4, 2, 6, 2, 5, 2, 1, 2, 4, 2, 3, 2, 2, 6, 1, 2, 5, 5, 2, 2, 2, 3, 4, 5, 3, 5, 2, 2, 3, 2, 3, 2, 3, 4, 4, 6, 3, 3, 1, 3, 3, 3, 2, 6, 1, 3, 2, 2, 1, 2, 1, 2, 5, 2, 3, 1, 5, 2, 2, 4, 2, 6, 6, 2, 5, 2, 4, 3, 2, 9, 3, 2, 8, 5, 1, 3, 6, 3, 2, 3, 5, 1, 8, 3, 1, 4, 1, 1, 2, 9, 5, 4, 2, 4, 7, 3, 3, 2, 8, 2, 3, 3, 2, 2, 6, 2, 3, 1, 3, 8, 5, 7, 5, 5, 6, 4, 5, 3, 4, 3, 8, 2, 1, 4, 6, 4, 1, 8, 3, 6, 2, 5, 1, 3, 8, 7, 7, 1, 2, 2, 7, 4, 3, 4, 1, 1, 9, 3, 1, 2, 1, 2, 8, 1, 1, 5, 2, 6, 6, 5, 5, 7, 9, 1, 4, 1, 6, 2, 5, 8, 3, 5, 5, 3, 6, 3, 4, 4, 7, 3, 1, 1, 1, 5, 3, 6, 1, 1, 1, 2, 8, 2, 2, 4, 5, 3, 6, 2, 9, 1, 3, 2, 1, 4, 1, 1, 2, 3, 6, 7, 5, 1, 2, 6, 1, 2, 1, 7, 3, 6, 3, 2, 2, 1, 1, 7, 1, 3, 2, 4, 1, 2, 8, 2, 2, 5, 5, 1, 5, 5, 1, 5, 2, 4, 6, 5, 8, 5, 2, 1, 1, 5, 2, 4, 2, 2, 1, 2, 2, 3, 7, 2, 1, 4, 1, 4, 2, 1, 2, 3, 2, 1, 2, 6, 1, 7, 5, 4, 2, 5, 1, 2, 1, 3, 1, 1, 2, 8, 2, 3, 2, 2, 3, 1, 3, 7, 6, 5, 1, 2, 8, 2, 5, 2, 2, 4, 8, 2, 6, 1, 1, 2, 2, 2, 6, 6, 8, 6, 5, 5, 2, 1, 4, 2, 4, 1, 1, 3, 3, 3, 1, 6, 2, 1, 2, 1, 5, 5, 2, 7, 6, 2, 3, 5, 7, 4, 2, 8, 1, 2, 5, 3, 2, 1, 4, 5, 5, 2, 7, 2, 2, 7, 4, 2, 7, 1, 7, 8, 3, 1, 1, 2, 7, 7, 5, 8, 3, 5, 4, 5, 8, 2, 2, 1, 5, 4, 2, 2, 7, 2, 4, 5, 6, 1, 3, 4, 2, 6, 4, 2, 1, 5, 4, 2, 2, 1, 7, 7, 8, 4, 2, 3, 3, 6, 3, 1, 1, 2, 2, 9, 2, 1, 5, 2, 4, 2, 6, 5, 4, 7, 3, 5, 7, 8, 6, 1, 7, 5, 3, 8, 2, 4, 4, 5, 1, 5, 4, 3, 2, 2, 7, 8, 5, 1, 5, 4, 3, 4, 5, 2, 5, 6, 1, 3, 2, 2, 1, 5, 1, 1, 3, 2, 2, 5, 5, 6, 5, 1, 1, 4, 6, 8, 2, 2, 7, 6, 3, 7, 5, 7, 6, 1, 3, 2, 2, 4, 2, 7, 1, 5, 6, 3, 3, 4, 3, 3, 3, 4, 1, 8, 5, 6, 5, 3, 3, 9, 1, 4, 3, 4, 3, 2, 1, 4, 1, 3, 3, 6, 8, 6, 4, 3, 6, 8, 5, 1, 6, 2, 8, 5, 1, 7, 2, 5, 8, 2, 2, 7, 2, 7, 3, 3, 4, 4, 3, 1, 5, 1, 2, 2, 1, 4, 1, 2, 4, 2, 3, 3, 2, 5, 6, 1, 2, 3, 1, 5, 3, 1, 4, 5, 5, 8, 7, 1, 2, 7, 6, 4, 2, 7, 5, 1, 8, 2, 7, 2, 5, 9, 5, 3, 1, 4, 3, 1, 6, 2, 8, 1, 2, 9, 6, 3, 5, 3, 8, 6, 3, 6, 1, 6, 4, 8, 3, 2, 2, 3, 2, 5, 6, 2, 4, 2, 1, 5, 7, 7, 1, 7, 8, 5, 2, 4, 3, 3, 1, 2, 1, 2, 2, 1, 8, 6, 4, 4, 1, 1, 1, 2, 2, 7, 7, 1, 4, 3, 2, 2, 3, 1, 2, 6, 5, 4, 2, 1, 1, 2, 1, 1, 6, 4, 3, 3, 6, 3, 5, 3, 1, 6, 6, 5, 1, 4, 2, 6, 2, 1, 8, 1, 2, 5, 1, 1, 2, 2, 3, 2, 2, 1, 1, 8, 1, 1, 2, 2, 3, 3, 1, 2, 2, 1, 2, 1, 1, 3, 4, 2, 2, 2, 7, 2, 3, 2, 1, 6, 2, 2, 5, 4, 2, 3, 3, 3, 2, 2, 3, 3, 2, 6, 5, 1, 1, 5, 2, 5, 5, 4, 1, 1, 2, 2, 5, 9, 2, 1, 5, 4, 3, 6, 6, 6, 5, 5, 1, 2, 5, 2, 9, 5, 5, 1, 4, 4, 3, 8, 1, 1, 3, 3, 5, 5, 6, 5, 6, 1, 2, 1, 5, 2, 5, 6, 2, 3, 2, 3, 4, 6, 4, 4, 2, 5, 2, 4, 4, 6, 7, 7, 5, 1, 5, 2, 6, 2, 2, 4, 5, 7, 1, 8, 7, 3, 2, 2, 4, 2, 1, 4, 6, 5, 2, 1, 2, 7, 1, 4, 4, 2, 2, 5, 3, 3, 3, 6, 1, 9, 5, 5, 5, 6, 1, 2, 6, 2, 8, 3, 5, 6, 2, 2, 3, 5, 3, 9, 2, 1, 2, 2, 2, 2, 5, 5, 5, 1, 2, 3, 4, 1, 3, 5, 1, 2, 2, 3, 3, 4, 2, 2, 5, 5, 1, 1, 6, 3, 2, 1, 1, 1, 3, 1, 2, 1, 5, 2, 3, 4, 2, 1, 6, 3, 2, 4, 8, 4, 2, 2, 6, 1, 2, 2, 3, 2, 7, 6, 2, 9, 1, 5, 2, 3, 3, 2, 2, 4, 4, 4, 1, 4, 2, 2, 4, 2, 3, 5, 3, 7, 2, 2, 8, 2, 6, 2, 5, 1, 5, 4, 1, 5, 3, 1, 7, 5, 1, 5, 3, 9, 2, 4, 1, 1, 5, 5, 4, 7, 3, 4, 5, 6, 2, 5, 2, 2, 7, 2, 8, 3, 1, 2, 1, 1, 2, 1, 5, 2, 2, 7, 3, 2, 1, 5, 7, 1, 4, 1, 6, 1, 3, 6, 1, 5, 5, 4, 2, 6, 2, 2, 5, 3, 6, 4, 2, 3, 1, 7, 5, 3, 1, 2, 2, 5, 1, 1, 3, 1, 5, 2, 1, 3, 2, 7, 2, 6, 3, 3, 6, 1, 2, 2, 3, 3, 3, 9, 1, 3, 6, 6, 5, 1, 2, 1, 5, 4, 2, 2, 3, 7, 2, 5, 3, 5, 7, 2, 1, 7, 8, 5, 1, 4, 4, 3, 4, 1, 8, 5, 5, 2, 4, 5, 6, 3, 5, 5, 1, 5, 1, 4, 3, 5, 1, 1, 2, 4, 1, 1, 2, 6, 6, 3, 5, 6, 2, 7, 4, 6, 3, 5, 4, 2, 6, 3, 3, 1, 5, 3, 7, 8, 8, 3, 1, 5, 4, 1, 6, 4, 2, 2, 3, 7, 3, 2, 1, 3, 6, 3, 2, 2, 2, 4, 8, 4, 7, 6, 5, 4, 2, 4, 3, 1, 4, 2, 5, 5, 2, 2, 3, 1, 1, 3, 2, 4, 3, 3, 5, 3, 1, 1, 1, 3, 5, 3, 1, 3, 2, 6, 6, 2, 8, 2, 1, 1, 2, 2, 1, 1, 5, 2, 4, 4, 6, 1, 5, 2, 3, 5, 2, 4, 5, 5, 2, 8, 2, 6, 1, 5, 8, 3, 4, 6, 5, 1, 1, 3, 3, 7, 7, 3, 3, 2, 5, 1, 8, 2, 8, 8, 1, 3, 2, 8, 4, 7, 3, 6, 4, 8, 1, 2, 5, 4, 8, 4, 5, 3, 5, 5, 4, 2, 3, 2, 6, 6, 8, 4, 7, 2, 1, 4, 2, 3, 1, 1, 2, 1, 3, 1, 5, 5, 4, 5, 6, 6, 5, 3, 5, 6, 3, 9, 6, 6, 1, 1, 4, 5, 9, 5, 6, 2, 1, 7, 3, 6, 4, 6, 2, 3, 2, 3, 4, 7, 2, 3, 8, 2, 1, 9, 2, 5, 1, 5, 2, 3, 4, 1, 5, 2, 2, 8, 3, 1, 4, 9, 5, 2, 2, 4, 3, 5, 5, 2, 3, 1, 2, 5, 5, 5, 7, 5, 5, 2, 3, 4, 2, 2, 1, 2, 6, 1, 2, 2, 1, 7, 1, 2, 2, 2, 4, 3, 3, 3, 3, 3, 5, 4, 5, 5, 5, 3, 8, 6, 1, 3, 6, 1, 5, 7, 3, 2, 3, 2, 5, 6, 2, 3, 2, 6, 2, 4, 2, 5, 1, 2, 7, 4, 2, 8, 1, 2, 2, 7, 1, 1, 6, 6, 2, 1, 5, 7, 3, 4, 5, 3, 3, 5, 6, 4, 3, 2, 6, 6, 6, 6, 1, 4, 2, 1, 6, 9, 3, 8, 2, 6, 1, 5, 1, 2, 6, 2, 2, 6, 1, 1, 5, 7, 4, 4, 1, 5, 2, 1, 1, 1, 4, 6, 6, 3, 2, 4, 1, 3, 6, 3, 4, 4, 6, 5, 4, 3, 4, 5, 2, 1, 2, 5, 3, 2, 7, 3, 5, 3, 6, 2, 3, 3, 4, 1, 5, 1, 6, 3, 3, 1, 1, 3, 3, 7, 6, 2, 3, 4, 5, 3, 4, 2, 2, 8, 1, 2, 1, 1, 2, 4, 1, 1, 3, 7, 3, 3, 2, 1, 3, 2, 8, 1, 1, 1, 3, 4, 3, 3, 1, 2, 8, 4, 1, 6, 2, 4, 2, 3, 1, 2, 2, 2, 2, 2, 4, 8, 5, 7, 2, 1]\n"
     ]
    }
   ],
   "source": [
    "print(int(99/5))\n",
    "# print(ages)\n",
    "# print(lable)\n",
    "print(len(lable))\n",
    "\n",
    "print(lable)\n",
    "\n",
    "\n",
    "\n",
    "\n",
    "\n",
    "\n"
   ]
  },
  {
   "cell_type": "code",
   "execution_count": 15,
   "metadata": {},
   "outputs": [],
   "source": [
    "# for i in range(len(ages)):\n",
    "#     if ages[i]<5:\n",
    "#         print(\"年龄为%d 第%d个\"%(ages[i],i))"
   ]
  },
  {
   "cell_type": "code",
   "execution_count": 7,
   "metadata": {},
   "outputs": [
    {
     "data": {
      "text/plain": [
       "<matplotlib.image.AxesImage at 0x7f8797c24438>"
      ]
     },
     "execution_count": 7,
     "metadata": {},
     "output_type": "execute_result"
    },
    {
     "data": {
      "image/png": "[encoded data removed]",
      "text/plain": [
       "<Figure size 432x288 with 1 Axes>"
      ]
     },
     "metadata": {
      "needs_background": "light"
     },
     "output_type": "display_data"
    }
   ],
   "source": [
    "data_gray = [ color.rgb2gray(i) for i in datas]\n",
    "plt.imshow(data_gray[2])"
   ]
  },
  {
   "cell_type": "code",
   "execution_count": 102,
   "metadata": {},
   "outputs": [],
   "source": [
    "# print(len(hog_features))"
   ]
  },
  {
   "cell_type": "code",
   "execution_count": 8,
   "metadata": {},
   "outputs": [
    {
     "name": "stderr",
     "output_type": "stream",
     "text": [
      "/usr/local/lib/python3.5/dist-packages/skimage/feature/_hog.py:239: skimage_deprecation: Argument `visualise` is deprecated and will be changed to `visualize` in v0.16\n",
      "  'be changed to `visualize` in v0.16', skimage_deprecation)\n"
     ]
    }
   ],
   "source": [
    "ppc = 16\n",
    "hog_images = []\n",
    "hog_features = []\n",
    "for image in data_gray:\n",
    "    fd,hog_image = hog(image, orientations=8, pixels_per_cell=(ppc,ppc),cells_per_block=(4, 4),block_norm= 'L2',visualise=True)\n",
    "    hog_images.append(hog_image)\n",
    "    hog_features.append(fd)\n",
    "#     print(\"成功写入\")\n",
    "    "
   ]
  },
  {
   "cell_type": "code",
   "execution_count": 9,
   "metadata": {},
   "outputs": [
    {
     "data": {
      "text/plain": [
       "<matplotlib.image.AxesImage at 0x7f81e8775668>"
      ]
     },
     "execution_count": 9,
     "metadata": {},
     "output_type": "execute_result"
    },
    {
     "data": {
      "image/png": "[encoded data removed]",
      "text/plain": [
       "<Figure size 432x288 with 1 Axes>"
      ]
     },
     "metadata": {
      "needs_background": "light"
     },
     "output_type": "display_data"
    }
   ],
   "source": [
    "plt.imshow(hog_images[2])"
   ]
  },
  {
   "cell_type": "code",
   "execution_count": 9,
   "metadata": {},
   "outputs": [
    {
     "name": "stdout",
     "output_type": "stream",
     "text": [
      "[3, 2, 1, 8, 8, 4, 6, 2, 3, 6, 3, 3, 1, 1, 1, 7, 5, 4, 1, 2, 4, 5, 9, 4, 6, 1, 4, 2, 6, 1, 6, 7, 3, 1, 1, 1, 8, 6, 2, 4, 1, 5, 1, 6, 1, 6, 2, 2, 2, 2, 2, 5, 1, 5, 3, 7, 5, 2, 6, 5, 3, 5, 4, 2, 1, 5, 4, 6, 3, 5, 1, 2, 1, 5, 3, 1, 5, 4, 5, 5, 1, 3, 6, 3, 5, 1, 1, 7, 3, 2, 3, 5, 3, 8, 2, 1, 1, 6, 9, 7, 6, 3, 7, 5, 6, 8, 2, 3, 3, 7, 2, 5, 5, 2, 2, 5, 2, 3, 3, 6, 3, 6, 4, 8, 7, 7, 2, 6, 7, 3, 6, 4, 3, 2, 5, 2, 3, 3, 5, 4, 6, 6, 7, 2, 5, 2, 6, 3, 5, 1, 1, 5, 7, 2, 2, 1, 4, 2, 1, 3, 8, 3, 4, 2, 4, 6, 1, 2, 6, 2, 6, 5, 6, 3, 3, 2, 1, 1, 5, 6, 2, 7, 8, 2, 5, 2, 4, 4, 6, 2, 7, 2, 7, 2, 3, 2, 2, 4, 1, 4, 3, 5, 2, 4, 1, 2, 2, 2, 1, 2, 7, 4, 6, 6, 3, 3, 6, 2, 2, 5, 1, 3, 2, 3, 1, 4, 6, 3, 3, 1, 3, 2, 1, 1, 7, 8, 1, 7, 2, 3, 8, 5, 6, 6, 5, 2, 3, 3, 4, 5, 2, 1, 3, 5, 2, 4, 1, 2, 5, 8, 1, 5, 5, 1, 5, 1, 2, 2, 5, 6, 1, 4, 5, 2, 3, 8, 2, 5, 1, 2, 3, 5, 2, 4, 1, 7, 1, 2, 8, 5, 5, 5, 4, 2, 3, 1, 3, 2, 2, 3, 3, 2, 1, 8, 6, 2, 6, 2, 4, 6, 5, 4, 5, 5, 8, 1, 1, 2, 2, 6, 2, 2, 2, 9, 5, 3, 2, 2, 2, 6, 6, 1, 3, 4, 5, 1, 1, 5, 4, 4, 2, 1, 2, 8, 4, 3, 6, 2, 3, 5, 2, 2, 3, 5, 6, 5, 4, 7, 3, 6, 2, 1, 2, 3, 4, 2, 6, 1, 2, 1, 8, 1, 3, 1, 1, 5, 2, 1, 4, 4, 8, 5, 7, 1, 8, 9, 6, 3, 5, 3, 7, 7, 1, 4, 2, 2, 3, 6, 8, 1, 9, 5, 2, 5, 5, 2, 3, 5, 8, 6, 3, 5, 1, 2, 5, 1, 2, 3, 2, 3, 6, 8, 1, 3, 2, 5, 6, 4, 2, 6, 2, 3, 3, 5, 5, 6, 2, 1, 8, 3, 2, 1, 3, 5, 3, 7, 2, 7, 1, 2, 1, 7, 2, 5, 1, 1, 4, 3, 2, 5, 7, 5, 5, 5, 2, 5, 2, 6, 2, 4, 1, 3, 2, 2, 1, 2, 2, 4, 5, 7, 1, 8, 8, 3, 4, 3, 5, 7, 3, 1, 7, 6, 2, 3, 7, 3, 1, 6, 6, 8, 5, 1, 4, 1, 3, 2, 4, 2, 5, 8, 6, 1, 2, 6, 2, 2, 5, 1, 2, 1, 5, 2, 4, 1, 2, 5, 6, 3, 2, 3, 2, 2, 5, 2, 2, 2, 5, 5, 2, 2, 7, 2, 5, 2, 4, 1, 5, 2, 4, 7, 4, 6, 3, 1, 2, 7, 2, 4, 4, 5, 1, 5, 8, 1, 4, 3, 8, 6, 1, 3, 2, 3, 7, 5, 1, 5, 1, 3, 4, 7, 3, 2, 2, 3, 6, 5, 2, 5, 2, 3, 1, 6, 2, 3, 8, 6, 1, 7, 6, 4, 3, 2, 4, 1, 3, 4, 1, 5, 6, 1, 5, 5, 1, 2, 2, 2, 2, 2, 1, 2, 3, 6, 4, 2, 2, 9, 4, 8, 3, 5, 3, 7, 8, 1, 3, 3, 5, 9, 5, 3, 1, 9, 5, 5, 1, 1, 4, 7, 1, 4, 5, 2, 6, 6, 5, 1, 2, 7, 2, 5, 4, 5, 4, 5, 5, 8, 2, 2, 6, 2, 2, 5, 4, 2, 2, 2, 1, 1, 1, 6, 5, 3, 5, 1, 5, 5, 5, 2, 1, 5, 1, 2, 5, 4, 2, 3, 5, 8, 5, 1, 6, 4, 1, 3, 6, 5, 2, 6, 7, 7, 6, 3, 2, 9, 6, 6, 3, 6, 7, 1, 2, 6, 2, 6, 5, 8, 1, 1, 2, 1, 4, 3, 2, 5, 7, 1, 2, 3, 3, 2, 1, 5, 4, 1, 3, 1, 2, 1, 1, 6, 3, 2, 2, 2, 4, 2, 1, 1, 9, 1, 3, 8, 6, 2, 2, 1, 6, 1, 5, 3, 5, 2, 1, 2, 7, 1, 4, 8, 2, 2, 4, 2, 2, 1, 9, 6, 2, 5, 3, 1, 2, 6, 4, 3, 5, 7, 4, 2, 7, 2, 2, 6, 4, 3, 3, 1, 8, 3, 5, 3, 7, 2, 8, 7, 3, 2, 2, 5, 2, 3, 6, 8, 2, 4, 2, 5, 1, 6, 2, 1, 2, 4, 5, 5, 1, 2, 1, 4, 1, 1, 1, 4, 5, 5, 8, 8, 5, 3, 2, 6, 3, 1, 5, 5, 6, 4, 2, 5, 6, 3, 7, 3, 3, 7, 3, 1, 1, 3, 2, 5, 5, 2, 2, 8, 1, 3, 7, 5, 4, 1, 5, 8, 1, 1, 2, 2, 2, 1, 6, 6, 1, 1, 6, 6, 2, 4, 7, 5, 7, 2, 1, 3, 5, 2, 1, 2, 2, 2, 2, 3, 2, 2, 3, 4, 2, 4, 5, 8, 2, 5, 5, 1, 4, 2, 4, 3, 5, 5, 2, 2, 1, 4, 5, 2, 8, 5, 3, 2, 7, 7, 5, 3, 4, 4, 3, 8, 1, 2, 2, 1, 1, 5, 1, 1, 1, 4, 1, 4, 2, 3, 6, 8, 1, 5, 3, 2, 2, 4, 2, 4, 1, 4, 2, 5, 2, 8, 1, 8, 2, 7, 2, 5, 7, 4, 4, 1, 6, 6, 2, 8, 5, 6, 2, 3, 1, 3, 2, 2, 1, 1, 8, 7, 2, 3, 3, 5, 7, 1, 1, 4, 2, 5, 4, 1, 2, 1, 4, 6, 6, 3, 7, 1, 1, 5, 4, 2, 8, 6, 2, 2, 3, 3, 5, 1, 2, 5, 7, 2, 1, 7, 1, 5, 6, 4, 4, 3, 3, 4, 6, 3, 2, 2, 3, 6, 2, 4, 2, 9, 4, 6, 2, 4, 1, 2, 6, 8, 4, 4, 9, 2, 6, 6, 1, 5, 1, 8, 9, 1, 3, 1, 7, 2, 1, 5, 2, 3, 4, 4, 4, 8, 1, 1, 1, 1, 4, 1, 2, 3, 1, 7, 1, 2, 5, 7, 2, 7, 4, 3, 1, 5, 2, 3, 7, 3, 2, 3, 1, 1, 1, 2, 3, 1, 3, 2, 2, 4, 2, 1, 2, 5, 5, 3, 4, 6, 5, 3, 2, 1, 1, 7, 3, 3, 4, 7, 2, 1, 3, 3, 2, 2, 3, 5, 6, 4, 3, 3, 6, 2, 2, 1, 2, 2, 5, 2, 2, 3, 1, 5, 5, 3, 3, 7, 3, 2, 7, 6, 3, 2, 9, 3, 1, 1, 2, 3, 7, 4, 7, 1, 6, 2, 2, 5, 7, 4, 2, 4, 1, 5, 2, 1, 1, 2, 3, 3, 5, 3, 3, 2, 1, 5, 3, 3, 1, 4, 6, 9, 7, 8, 1, 2, 2, 4, 2, 1, 6, 5, 4, 3, 8, 2, 2, 3, 8, 5, 4, 6, 6, 2, 5, 3, 4, 2, 8, 5, 1, 2, 5, 3, 1, 2, 3, 2, 6, 2, 1, 3, 1, 9, 3, 1, 7, 6, 6, 2, 1, 4, 4, 2, 1, 6, 3, 6, 4, 3, 1, 2, 1, 3, 6, 5, 7, 2, 1, 2, 3, 3, 3, 3, 5, 1, 1, 2, 1, 5, 4, 1, 1, 2, 4, 2, 6, 1, 7, 5, 5, 1, 1, 1, 1, 5, 3, 2, 1, 5, 3, 6, 5, 8, 2, 3, 1, 5, 7, 4, 2, 3, 1, 9, 6, 4, 2, 5, 1, 5, 2, 4, 4, 2, 4, 1, 2, 3, 8, 1, 1, 3, 3, 2, 5, 1, 2, 5, 2, 6, 4, 2, 5, 6, 4, 5, 4, 2, 1, 3, 6, 1, 1, 3, 6, 7, 5, 5, 5, 6, 5, 7, 2, 3, 8, 4, 2, 6, 1, 7, 3, 1, 2, 3, 6, 5, 4, 2, 5, 1, 2, 2, 1, 1, 4, 4, 1, 1, 2, 5, 1, 2, 7, 3, 3, 2, 1, 7, 1, 3, 3, 3, 6, 2, 3, 2, 1, 5, 5, 3, 2, 3, 4, 2, 2, 2, 1, 5, 6, 1, 6, 5, 2, 8, 1, 2, 2, 2, 1, 2, 1, 2, 3, 1, 2, 6, 5, 2, 4, 6, 2, 9, 2, 1, 4, 6, 3, 6, 1, 3, 2, 4, 3, 1, 1, 1, 2, 5, 2, 4, 6, 1, 6, 1, 2, 1, 7, 1, 4, 5, 2, 5, 7, 1, 7, 8, 8, 8, 1, 3, 1, 1, 1, 3, 5, 2, 1, 2, 7, 6, 3, 1, 2, 1, 5, 4, 6, 2, 2, 1, 3, 5, 7, 2, 1, 7, 1, 3, 3, 3, 3, 5, 1, 4, 7, 1, 3, 4, 5, 2, 4, 6, 2, 6, 8, 5, 5, 4, 1, 2, 2, 5, 5, 8, 4, 6, 8, 2, 1, 3, 2, 2, 2, 4, 8, 3, 3, 1, 5, 2, 5, 2, 2, 8, 3, 3, 5, 5, 7, 1, 3, 5, 1, 5, 1, 2, 3, 5, 1, 1, 8, 3, 4, 2, 1, 3, 1, 1, 1, 3, 7, 3, 8, 6, 4, 3, 2, 2, 2, 2, 6, 1, 1, 4, 4, 4, 3, 3, 3, 9, 5, 4, 3, 2, 1, 3, 5, 6, 1, 4, 7, 1, 2, 2, 2, 3, 5, 5, 1, 6, 2, 3, 6, 2, 1, 5, 1, 2, 3, 2, 6, 1, 3, 1, 1, 4, 2, 6, 2, 2, 7, 2, 2, 5, 1, 2, 3, 6, 3, 7, 6, 1, 3, 1, 6, 5, 3, 2, 1, 3, 2, 3, 3, 2, 1, 5, 8, 2, 8, 3, 3, 3, 6, 2, 1, 5, 2, 6, 5, 2, 1, 2, 2, 2, 5, 8, 1, 5, 1, 1, 3, 2, 5, 6, 1, 8, 4, 3, 1, 5, 3, 3, 8, 2, 1, 2, 6, 2, 4, 2, 2, 2, 1, 5, 1, 4, 5, 2, 2, 3, 6, 4, 3, 5, 2, 1, 3, 4, 3, 5, 5, 5, 3, 1, 2, 1, 1, 1, 2, 2, 6, 7, 2, 1, 3, 3, 1, 3, 4, 7, 5, 3, 4, 2, 4, 1, 6, 1, 2, 5, 4, 2, 3, 2, 1, 2, 8, 1, 1, 7, 1, 7, 2, 8, 5, 5, 2, 1, 6, 6, 7, 3, 5, 3, 3, 3, 3, 5, 2, 2, 5, 2, 2, 9, 4, 2, 3, 6, 7, 8, 6, 3, 3, 1, 6, 3, 5, 1, 5, 1, 3, 3, 8, 7, 6, 4, 4, 5, 6, 2, 2, 2, 1, 2, 2, 3, 2, 2, 5, 2, 1, 8, 2, 4, 5, 6, 7, 2, 4, 5, 5, 3, 4, 3, 2, 6, 4, 5, 2, 5, 2, 5, 5, 5, 5, 3, 2, 2, 4, 3, 6, 5, 2, 6, 3, 1, 5, 8, 2, 3, 1, 4, 2, 3, 1, 3, 3, 4, 1, 4, 8, 3, 4, 3, 2, 3, 3, 3, 1, 6, 9, 4, 2, 5, 6, 2, 3, 5, 2, 2, 3, 1, 5, 1, 6, 3, 3, 2, 6, 4, 7, 1, 5, 3, 3, 3, 6, 1, 6, 1, 2, 3, 2, 3, 3, 2, 2, 8, 5, 4, 5, 1, 2, 4, 3, 1, 8, 3, 1, 5, 2, 5, 2, 1, 4, 1, 2, 3, 8, 1, 3, 1, 1, 3, 1, 2, 6, 1, 2, 5, 1, 5, 2, 7, 4, 8, 5, 2, 2, 3, 2, 2, 1, 2, 2, 2, 2, 6, 8, 2, 9, 6, 8, 6, 3, 1, 2, 3, 6, 5, 1, 4, 5, 2, 6, 2, 2, 1, 1, 5, 2, 6, 6, 1, 1, 2, 6, 1, 4, 3, 6, 4, 1, 4, 3, 2, 2, 1, 3, 4, 2, 4, 4, 3, 7, 2, 3, 4, 4, 8, 2, 8, 3, 1, 2, 4, 3, 3, 6, 4, 2, 7, 2, 4, 6, 5, 3, 5, 1, 6, 5, 6, 4, 8, 3, 2, 7, 6, 4, 3, 3, 2, 6, 1, 1, 3, 4, 2, 1, 1, 5, 2, 6, 8, 2, 6, 3, 8, 5, 5, 5, 5, 6, 6, 1, 3, 4, 5, 1, 5, 2, 5, 6, 2, 5, 1, 1, 1, 1, 7, 2, 2, 2, 5, 1, 2, 8, 5, 3, 3, 1, 6, 3, 7, 3, 2, 1, 3, 1, 3, 6, 3, 5, 5, 8, 7, 2, 4, 9, 1, 7, 2, 7, 2, 6, 2, 1, 8, 2, 8, 1, 4, 5, 7, 4, 5, 2, 2, 5, 5, 1, 1, 6, 5, 4, 7, 2, 2, 7, 7, 1, 2, 5, 5, 3, 2, 6, 2, 8, 2, 2, 5, 4, 3, 3, 1, 4, 7, 7, 5, 3, 7, 4, 8, 8, 6, 1, 7, 3, 3, 3, 8, 6, 3, 1, 5, 2, 4, 1, 6, 5, 7, 5, 9, 4, 2, 3, 1, 8, 3, 1, 4, 6, 8, 9, 2, 3, 5, 5, 7, 5, 5, 2, 4, 4, 7, 6, 5, 6, 3, 8, 7, 1, 1, 4, 5, 2, 3, 6, 3, 3, 4, 1, 2, 8, 3, 3, 3, 1, 6, 8, 1, 5, 5, 2, 6, 5, 6, 1, 1, 2, 1, 7, 7, 1, 7, 2, 6, 1, 2, 4, 3, 5, 7, 4, 7, 3, 2, 1, 6, 2, 4, 3, 3, 2, 8, 2, 8, 3, 5, 3, 1, 3, 1, 4, 2, 2, 1, 7, 1, 3, 1, 1, 5, 1, 6, 6, 4, 1, 2, 2, 6, 5, 2, 2, 4, 5, 1, 2, 1, 2, 1, 2, 1, 4, 3, 1, 6, 5, 8, 2, 7, 1, 8, 3, 6, 6, 3, 3, 2, 6, 1, 4, 7, 1, 5, 2, 6, 6, 2, 7, 6, 6, 6, 6, 1, 4, 5, 5, 2, 1, 7, 1, 5, 2, 3, 5, 2, 2, 1, 1, 1, 3, 1, 3, 7, 1, 5, 2, 2, 2, 2, 7, 1, 2, 2, 1, 4, 3, 3, 1, 1, 9, 3, 1, 7, 6, 3, 2, 7, 6, 2, 3, 1, 1, 5, 1, 7, 6, 1, 2, 5, 4, 3, 2, 3, 4, 5, 3, 1, 2, 1, 6, 4, 1, 5, 1, 2, 1, 7, 6, 3, 2, 4, 2, 4, 8, 6, 2, 1, 3, 1, 7, 9, 1, 2, 7, 6, 3, 2, 1, 5, 2, 2, 1, 6, 3, 5, 5, 2, 2, 2, 6, 6, 2, 8, 8, 3, 2, 4, 6, 5, 1, 2, 3, 2, 6, 1, 3, 3, 5, 5, 5, 6, 5, 5, 2, 5, 2, 1, 8, 2, 2, 1, 1, 5, 4, 5, 4, 1, 2, 5, 8, 3, 5, 2, 5, 1, 1, 5, 2, 4, 2, 5, 7, 2, 1, 1, 3, 2, 7, 1, 2, 2, 4, 2, 4, 1, 4, 6, 3, 2, 3, 3, 2, 1, 3, 6, 5, 5, 4, 6, 6, 1, 3, 2, 7, 2, 1, 9, 3, 5, 3, 6, 5, 1, 5, 3, 1, 5, 2, 1, 2, 1, 7, 2, 3, 7, 3, 5, 2, 2, 5, 8, 1, 4, 1, 6, 2, 5, 3, 1, 1, 1, 3, 6, 3, 3, 7, 3, 3, 4, 2, 2, 2, 3, 6, 7, 6, 2, 5, 8, 2, 1, 7, 5, 8, 4, 6, 2, 5, 2, 1, 5, 7, 5, 3, 1, 2, 2, 2, 3, 3, 1, 5, 1, 2, 1, 5, 4, 2, 1, 1, 3, 2, 8, 3, 7, 1, 5, 4, 3, 4, 1, 5, 5, 2, 4, 2, 1, 1, 8, 6, 1, 4, 6, 2, 2, 7, 1, 1, 3, 5, 2, 6, 7, 2, 4, 3, 2, 2, 2, 5, 5, 3, 1, 2, 5, 2, 1, 8, 7, 5, 5, 8, 8, 5, 2, 2, 3, 1, 7, 4, 1, 1, 2, 3, 2, 4, 4, 6, 1, 1, 2, 1, 2, 4, 1, 5, 3, 1, 2, 2, 8, 5, 3, 5, 2, 3, 6, 5, 3, 5, 2, 1, 4, 4, 4, 5, 3, 2, 6, 6, 3, 1, 4, 5, 3, 6, 3, 4, 1, 4, 3, 5, 3, 6, 2, 7, 4, 1, 5, 2, 2, 4, 8, 1, 3, 2, 6, 3, 1, 1, 3, 3, 2, 3, 7, 2, 4, 8, 5, 2, 1, 5, 6, 7, 5, 4, 3, 9, 4, 3, 3, 3, 6, 5, 5, 4, 8, 2, 2, 3, 6, 5, 2, 2, 4, 3, 1, 5, 1, 5, 3, 5, 2, 8, 4, 2, 1, 1, 1, 2, 2, 2, 3, 4, 1, 6, 7, 2, 7, 5, 2, 1, 1, 2, 1, 9, 4, 2, 1, 2, 3, 2, 2, 3, 5, 6, 2, 7, 2, 5, 4, 1, 4, 6, 2, 3, 9, 2, 1, 2, 9, 2, 5, 3, 3, 6, 3, 5, 1, 5, 6, 2, 8, 2, 6, 2, 7, 3, 2, 1, 4, 5, 3, 2, 3, 5, 2, 4, 2, 1, 2, 7, 1, 1, 6, 6, 1, 1, 5, 1, 1, 2, 1, 6, 5, 3, 1, 1, 3, 1, 8, 4, 2, 5, 3, 2, 3, 1, 1, 5, 5, 6, 5, 5, 1, 3, 1, 5, 4, 2, 2, 2, 3, 2, 2, 3, 1, 3, 2, 3, 2, 7, 4, 2, 1, 2, 3, 4, 3, 6, 6, 3, 2, 5, 8, 3, 4, 3, 5, 4, 1, 3, 4, 3, 1, 1, 5, 2, 1, 7, 2, 4, 5, 4, 2, 5, 2, 2, 9, 2, 1, 5, 5, 2, 7, 6, 3, 9, 3, 2, 1, 3, 3, 2, 2, 3, 2, 1, 7, 3, 5, 4, 3, 8, 3, 2, 4, 7, 7, 3, 1, 2, 4, 3, 3, 1, 5, 3, 4, 2, 3, 3, 9, 6, 5, 1, 1, 4, 8, 5, 7, 2, 3, 5, 4, 2, 2, 3, 7, 1, 3, 2, 5, 7, 5, 1, 5, 6, 2, 4, 3, 8, 1, 4, 8, 2, 5, 1, 3, 7, 5, 6, 7, 2, 4, 9, 1, 8, 6, 8, 9, 4, 3, 3, 2, 3, 5, 2, 3, 6, 1, 7, 1, 6, 3, 2, 3, 2, 1, 6, 4, 1, 4, 4, 2, 3, 6, 1, 6, 1, 7, 4, 6, 5, 3, 3, 2, 7, 8, 3, 8, 6, 3, 3, 3, 6, 2, 2, 7, 8, 6, 5, 2, 3, 8, 5, 5, 5, 2, 5, 8, 3, 2, 1, 2, 3, 6, 2, 2, 3, 1, 4, 3, 4, 7, 5, 7, 1, 9, 5, 4, 2, 5, 6, 1, 2, 1, 4, 6, 7, 4, 9, 1, 8, 3, 1, 3, 7, 1, 2, 4, 2, 5, 2, 2, 6, 2, 4, 7, 2, 6, 1, 7, 7, 5, 5, 1, 3, 1, 1, 2, 6, 3, 9, 4, 1, 7, 1, 1, 4, 3, 3, 8, 4, 6, 4, 3, 6, 4, 1, 4, 4, 1, 6, 5, 5, 2, 1, 9, 3, 6, 5, 2, 5, 1, 5, 2, 9, 6, 3, 8, 3, 2, 9, 6, 5, 4, 2, 6, 4, 2, 5, 8, 8, 6, 6, 4, 3, 7, 6, 5, 8, 1, 2, 5, 2, 2, 2, 4, 6, 2, 6, 2, 6, 2, 7, 6, 4, 8, 2, 6, 7, 6, 6, 3, 1, 1, 2, 1, 1, 4, 1, 5, 9, 3, 5, 1, 6, 2, 6, 4, 2, 7, 8, 6, 2, 2, 2, 2, 8, 3, 2, 3, 3, 5, 2, 6, 8, 2, 5, 2, 3, 9, 4, 3, 5, 4, 8, 2, 2, 8, 7, 7, 7, 2, 1, 1, 4, 3, 6, 2, 2, 2, 7, 5, 1, 9, 8, 1, 5, 3, 1, 7, 1, 1, 8, 2, 8, 5, 9, 2, 3, 3, 3, 1, 3, 5, 3, 2, 5, 1, 5, 5, 4, 2, 3, 3, 4, 2, 1, 1, 3, 2, 6, 9, 6, 7, 3, 6, 4, 6, 3, 8, 5, 1, 3, 2, 9, 4, 4, 5, 6, 2, 5, 6, 8, 2, 5, 3, 1, 1, 2, 6, 6, 2, 8, 2, 5, 2, 7, 9, 4, 1, 4, 6, 6, 2, 6, 2, 2, 2, 1, 2, 8, 5, 3, 1, 6, 7, 3, 1, 9, 1, 2, 3, 4, 7, 3, 3, 4, 5, 3, 2, 4, 5, 6, 5, 4, 2, 1, 2, 5, 1, 5, 6, 5, 1, 7, 6, 8, 5, 3, 6, 1, 6, 6, 1, 1, 3, 5, 6, 4, 6, 5, 4, 2, 5, 5, 8, 2, 6, 3, 1, 5, 1, 5, 2, 1, 7, 2, 2, 2, 1, 5, 7, 3, 2, 2, 6, 2, 2, 3, 2, 2, 4, 5, 2, 5, 2, 4, 1, 2, 4, 6, 2, 4, 1, 7, 9, 8, 5, 4, 4, 6, 8, 2, 5, 2, 6, 2, 2, 2, 6, 5, 1, 2, 6, 6, 6, 2, 6, 6, 5, 3, 3, 5, 2, 6, 3, 4, 6, 2, 5, 7, 2, 1, 5, 5, 1, 2, 3, 3, 2, 1, 2, 2, 8, 6, 1, 6, 2, 2, 1, 3, 5, 2, 5, 6, 5, 6, 3, 4, 2, 2, 5, 5, 1, 3, 1, 1, 7, 5, 8, 3, 5, 8, 5, 2, 2, 8, 4, 5, 6, 7, 3, 2, 2, 4, 2, 5, 3, 1, 5, 2, 4, 2, 1, 1, 8, 8, 6, 6, 6, 1, 2, 5, 2, 6, 4, 3, 9, 1, 1, 2, 5, 2, 5, 7, 7, 8, 6, 3, 8, 3, 3, 5, 3, 2, 1, 6, 5, 6, 8, 6, 3, 4, 2, 5, 2, 5, 4, 6, 4, 4, 3, 3, 1, 5, 2, 1, 2, 1, 6, 1, 2, 8, 4, 3, 5, 4, 5, 1, 5, 2, 8, 3, 5, 3, 3, 6, 1, 4, 1, 8, 2, 1, 1, 5, 1, 6, 2, 5, 6, 5, 2, 6, 5, 4, 3, 2, 6, 3, 3, 3, 1, 2, 2, 2, 4, 3, 1, 2, 4, 5, 1, 5, 3, 3, 7, 1, 1, 4, 2, 7, 6, 1, 8, 1, 1, 1, 2, 1, 5, 3, 2, 1, 7, 5, 4, 3, 2, 6, 3, 5, 1, 1, 2, 2, 4, 6, 2, 4, 1, 2, 1, 2, 2, 9, 2, 1, 5, 5, 5, 1, 1, 1, 2, 4, 3, 3, 1, 6, 1, 6, 7, 2, 2, 4, 5, 1, 5, 8, 3, 3, 6, 2, 7, 3, 1, 7, 2, 4, 6, 2, 1, 1, 6, 8, 8, 2, 2, 2, 2, 1, 2, 8, 7, 2, 1, 2, 3, 1, 7, 4, 3, 1, 1, 4, 8, 1, 6, 8, 1, 1, 3, 1, 2, 5, 2, 1, 2, 5, 1, 5, 2, 5, 7, 1, 3, 1, 2, 7, 4, 2, 1, 5, 5, 3, 5, 5, 2, 2, 9, 6, 2, 1, 7, 7, 1, 3, 5, 6, 9, 3, 2, 1, 5, 3, 4, 4, 5, 1, 5, 3, 7, 5, 2, 2, 1, 1, 3, 5, 1, 2, 2, 1, 3, 6, 5, 1, 8, 6, 2, 8, 6, 4, 7, 1, 2, 2, 8, 1, 1, 1, 4, 1, 9, 2, 7, 3, 1, 3, 6, 3, 3, 9, 7, 8, 2, 2, 5, 2, 1, 5, 2, 1, 1, 6, 5, 3, 3, 3, 3, 6, 3, 2, 3, 1, 6, 2, 6, 1, 6, 8, 6, 2, 2, 6, 3, 2, 1, 5, 2, 1, 7, 6, 3, 1, 2, 3, 2, 2, 1, 1, 8, 6, 3, 1, 1, 5, 5, 8, 7, 2, 2, 2, 4, 1, 6, 2, 2, 6, 3, 2, 5, 2, 3, 1, 4, 2, 5, 2, 5, 1, 6, 3, 5, 3, 7, 1, 4, 1, 1, 2, 1, 3, 2, 2, 9, 3, 3, 1, 1, 1, 2, 6, 7, 1, 8, 2, 4, 7, 5, 6, 3, 4, 6, 8, 1, 1, 7, 3, 1, 2, 2, 4, 1, 1, 2, 5, 4, 2, 7, 1, 5, 5, 6, 6, 1, 6, 5, 2, 4, 5, 2, 3, 3, 4, 2, 2, 5, 4, 5, 9, 4, 1, 3, 9, 8, 2, 2, 6, 1, 4, 2, 6, 4, 3, 4, 3, 8, 2, 3, 5, 3, 4, 2, 3, 6, 3, 3, 2, 2, 3, 5, 8, 3, 3, 2, 7, 3, 2, 1, 6, 5, 2, 2, 5, 4, 3, 3, 2, 6, 8, 1, 2, 2, 3, 5, 1, 3, 2, 1, 1, 2, 1, 1, 1, 9, 3, 2, 7, 1, 9, 5, 2, 2, 2, 4, 1, 5, 7, 6, 2, 7, 6, 5, 5, 4, 5, 3, 7, 5, 2, 5, 2, 1, 2, 3, 1, 1, 4, 8, 5, 1, 3, 4, 2, 7, 2, 5, 2, 6, 4, 3, 2, 2, 7, 1, 3, 3, 4, 2, 1, 5, 4, 5, 2, 3, 7, 2, 1, 5, 7, 2, 2, 2, 5, 2, 1, 5, 3, 2, 1, 3, 9, 1, 6, 2, 2, 3, 2, 2, 2, 1, 1, 1, 4, 2, 1, 6, 1, 2, 5, 5, 1, 7, 1, 5, 4, 1, 2, 6, 4, 5, 1, 6, 3, 1, 1, 2, 2, 3, 5, 1, 4, 2, 2, 2, 1, 4, 2, 2, 4, 6, 2, 8, 2, 2, 6, 3, 2, 2, 8, 1, 5, 5, 1, 2, 4, 3, 5, 4, 2, 6, 2, 4, 5, 4, 8, 2, 2, 6, 3, 1, 2, 4, 8, 5, 5, 7, 4, 8, 5, 4, 2, 3, 6, 4, 4, 7, 2, 4, 1, 3, 1, 3, 8, 8, 5, 2, 2, 5, 6, 4, 1, 3, 1, 5, 7, 4, 2, 5, 1, 3, 8, 6, 2, 9, 6, 8, 5, 3, 6, 3, 4, 2, 6, 4, 2, 1, 5, 9, 1, 6, 1, 1, 1, 2, 6, 1, 2, 7, 2, 4, 2, 5, 5, 8, 2, 2, 6, 5, 1, 5, 5, 1, 1, 5, 1, 1, 1, 2, 5, 5, 1, 1, 8, 3, 2, 1, 6, 1, 5, 5, 6, 1, 5, 2, 2, 1, 7, 5, 1, 1, 5, 3, 6, 1, 3, 1, 2, 5, 3, 3, 6, 6, 5, 8, 2, 6, 5, 3, 3, 4, 6, 1, 2, 4, 2, 2, 6, 2, 4, 1, 4, 5, 5, 4, 6, 2, 5, 2, 6, 5, 3, 1, 8, 5, 3, 2, 3, 4, 3, 1, 6, 8, 3, 4, 2, 7, 6, 2, 3, 6, 1, 4, 2, 8, 3, 2, 6, 5, 5, 4, 4, 3, 1, 4, 1, 6, 1, 7, 3, 6, 2, 2, 6, 1, 4, 5, 4, 7, 3, 4, 5, 2, 8, 4, 3, 3, 2, 1, 5, 6, 3, 7, 3, 1, 2, 5, 5, 5, 8, 3, 5, 4, 5, 7, 1, 5, 5, 6, 2, 4, 4, 1, 5, 2, 1, 4, 2, 6, 3, 4, 8, 8, 5, 2, 2, 5, 5, 3, 2, 2, 4, 1, 1, 3, 1, 1, 1, 2, 4, 4, 1, 2, 4, 6, 4, 3, 7, 2, 2, 2, 8, 1, 6, 3, 3, 6, 1, 8, 1, 1, 1, 6, 2, 3, 3, 7, 7, 3, 2, 3, 1, 5, 4, 1, 7, 7, 2, 7, 3, 4, 6, 5, 1, 1, 2, 1, 1, 4, 2, 1, 7, 1, 2, 8, 1, 9, 3, 7, 7, 2, 1, 4, 1, 5, 1, 4, 9, 1, 2, 6, 6, 4, 7, 3, 5, 4, 9, 2, 1, 1, 1, 3, 5, 2, 6, 1, 1, 1, 1, 1, 7, 2, 2, 6, 2, 4, 2, 8, 5, 6, 7, 1, 2, 6, 8, 3, 1, 2, 7, 3, 2, 7, 2, 4, 3, 6, 2, 1, 5, 6, 3, 3, 7, 8, 8, 4, 3, 2, 4, 5, 3, 4, 5, 7, 2, 4, 5, 1, 2, 3, 2, 7, 2, 2, 4, 1, 6, 3, 2, 1, 2, 1, 2, 3, 3, 5, 1, 1, 2, 1, 2, 2, 3, 1, 6, 2, 1, 1, 6, 3, 1, 2, 6, 1, 6, 2, 2, 4, 5, 8, 5, 4, 6, 5, 5, 5, 3, 2, 2, 5, 2, 7, 3, 3, 6, 6, 1, 2, 2, 7, 2, 3, 6, 9, 3, 4, 6, 2, 3, 4, 6, 5, 8, 5, 4, 7, 2, 2, 5, 1, 6, 5, 4, 4, 3, 6, 1, 2, 1, 3, 5, 6, 1, 1, 6, 5, 7, 4, 4, 2, 5, 2, 2, 2, 8, 2, 2, 3, 2, 2, 1, 2, 3, 4, 5, 2, 3, 5, 4, 2, 6, 2, 3, 6, 8, 5, 4, 4, 3, 8, 3, 1, 5, 4, 6, 2, 1, 2, 2, 5, 7, 2, 2, 4, 5, 2, 5, 1, 1, 4, 2, 8, 5, 1, 1, 2, 1, 2, 1, 2, 7, 6, 3, 5, 1, 8, 1, 1, 3, 3, 2, 5, 2, 5, 4, 8, 1, 6, 1, 1, 3, 2, 3, 1, 3, 5, 3, 5, 3, 2, 3, 3, 3, 4, 2, 2, 1, 2, 2, 6, 1, 2, 2, 5, 1, 5, 6, 2, 5, 1, 5, 2, 3, 3, 6, 2, 1, 2, 3, 2, 2, 2, 7, 5, 5, 7, 1, 2, 3, 2, 1, 3, 1, 1, 1, 3, 5, 5, 7, 1, 2, 2, 3, 5, 8, 3, 2, 2, 1, 5, 1, 1, 4, 2, 4, 1, 2, 2, 3, 1, 4, 5, 6, 4, 1, 7, 3, 3, 3, 3, 5, 4, 1, 5, 5, 6, 3, 2, 3, 1, 4, 6, 2, 3, 5, 6, 5, 1, 2, 1, 3, 2, 3, 7, 3, 2, 4, 5, 6, 1, 4, 3, 6, 1, 3, 1, 3, 4, 6, 9, 3, 8, 9, 7, 1, 2, 3, 1, 4, 4, 7, 2, 1, 5, 2, 5, 3, 3, 6, 5, 4, 3, 6, 1, 4, 6, 1, 6, 6, 7, 4, 3, 1, 2, 3, 3, 7, 2, 2, 4, 2, 5, 3, 1, 6, 4, 8, 1, 5, 5, 6, 2, 3, 2, 5, 1, 1, 1, 4, 3, 3, 2, 3, 2, 3, 4, 6, 3, 2, 5, 7, 4, 3, 5, 7, 8, 4, 8, 5, 5, 4, 1, 1, 5, 5, 4, 3, 2, 5, 3, 2, 6, 2, 2, 5, 3, 1, 2, 6, 8, 3, 3, 1, 4, 2, 4, 3, 4, 6, 2, 4, 7, 4, 5, 6, 5, 2, 5, 3, 1, 2, 2, 2, 5, 4, 2, 5, 5, 1, 5, 5, 2, 2, 1, 2, 2, 3, 8, 1, 4, 4, 1, 3, 7, 5, 3, 1, 3, 1, 3, 7, 7, 1, 3, 2, 3, 4, 1, 8, 3, 5, 6, 2, 2, 3, 2, 4, 6, 1, 1, 2, 6, 1, 3, 4, 6, 2, 2, 2, 5, 3, 5, 2, 5, 3, 8, 5, 6, 1, 5, 2, 3, 5, 1, 3, 3, 4, 2, 8, 3, 8, 2, 4, 5, 7, 3, 1, 2, 4, 1, 4, 5, 5, 2, 3, 7, 1, 6, 2, 1, 4, 3, 4, 4, 6, 1, 1, 3, 7, 1, 1, 8, 2, 2, 2, 3, 2, 5, 8, 3, 1, 3, 4, 2, 2, 2, 6, 6, 2, 4, 2, 6, 2, 5, 2, 1, 2, 4, 2, 3, 2, 2, 6, 1, 2, 5, 5, 2, 2, 2, 3, 4, 5, 3, 5, 2, 2, 3, 2, 3, 2, 3, 4, 4, 6, 3, 3, 1, 3, 3, 3, 2, 6, 1, 3, 2, 2, 1, 2, 1, 2, 5, 2, 3, 1, 5, 2, 2, 4, 2, 6, 6, 2, 5, 2, 4, 3, 2, 9, 3, 2, 8, 5, 1, 3, 6, 3, 2, 3, 5, 1, 8, 3, 1, 4, 1, 1, 2, 9, 5, 4, 2, 4, 7, 3, 3, 2, 8, 2, 3, 3, 2, 2, 6, 2, 3, 1, 3, 8, 5, 7, 5, 5, 6, 4, 5, 3, 4, 3, 8, 2, 1, 4, 6, 4, 1, 8, 3, 6, 2, 5, 1, 3, 8, 7, 7, 1, 2, 2, 7, 4, 3, 4, 1, 1, 9, 3, 1, 2, 1, 2, 8, 1, 1, 5, 2, 6, 6, 5, 5, 7, 9, 1, 4, 1, 6, 2, 5, 8, 3, 5, 5, 3, 6, 3, 4, 4, 7, 3, 1, 1, 1, 5, 3, 6, 1, 1, 1, 2, 8, 2, 2, 4, 5, 3, 6, 2, 9, 1, 3, 2, 1, 4, 1, 1, 2, 3, 6, 7, 5, 1, 2, 6, 1, 2, 1, 7, 3, 6, 3, 2, 2, 1, 1, 7, 1, 3, 2, 4, 1, 2, 8, 2, 2, 5, 5, 1, 5, 5, 1, 5, 2, 4, 6, 5, 8, 5, 2, 1, 1, 5, 2, 4, 2, 2, 1, 2, 2, 3, 7, 2, 1, 4, 1, 4, 2, 1, 2, 3, 2, 1, 2, 6, 1, 7, 5, 4, 2, 5, 1, 2, 1, 3, 1, 1, 2, 8, 2, 3, 2, 2, 3, 1, 3, 7, 6, 5, 1, 2, 8, 2, 5, 2, 2, 4, 8, 2, 6, 1, 1, 2, 2, 2, 6, 6, 8, 6, 5, 5, 2, 1, 4, 2, 4, 1, 1, 3, 3, 3, 1, 6, 2, 1, 2, 1, 5, 5, 2, 7, 6, 2, 3, 5, 7, 4, 2, 8, 1, 2, 5, 3, 2, 1, 4, 5, 5, 2, 7, 2, 2, 7, 4, 2, 7, 1, 7, 8, 3, 1, 1, 2, 7, 7, 5, 8, 3, 5, 4, 5, 8, 2, 2, 1, 5, 4, 2, 2, 7, 2, 4, 5, 6, 1, 3, 4, 2, 6, 4, 2, 1, 5, 4, 2, 2, 1, 7, 7, 8, 4, 2, 3, 3, 6, 3, 1, 1, 2, 2, 9, 2, 1, 5, 2, 4, 2, 6, 5, 4, 7, 3, 5, 7, 8, 6, 1, 7, 5, 3, 8, 2, 4, 4, 5, 1, 5, 4, 3, 2, 2, 7, 8, 5, 1, 5, 4, 3, 4, 5, 2, 5, 6, 1, 3, 2, 2, 1, 5, 1, 1, 3, 2, 2, 5, 5, 6, 5, 1, 1, 4, 6, 8, 2, 2, 7, 6, 3, 7, 5, 7, 6, 1, 3, 2, 2, 4, 2, 7, 1, 5, 6, 3, 3, 4, 3, 3, 3, 4, 1, 8, 5, 6, 5, 3, 3, 9, 1, 4, 3, 4, 3, 2, 1, 4, 1, 3, 3, 6, 8, 6, 4, 3, 6, 8, 5, 1, 6, 2, 8, 5, 1, 7, 2, 5, 8, 2, 2, 7, 2, 7, 3, 3, 4, 4, 3, 1, 5, 1, 2, 2, 1, 4, 1, 2, 4, 2, 3, 3, 2, 5, 6, 1, 2, 3, 1, 5, 3, 1, 4, 5, 5, 8, 7, 1, 2, 7, 6, 4, 2, 7, 5, 1, 8, 2, 7, 2, 5, 9, 5, 3, 1, 4, 3, 1, 6, 2, 8, 1, 2, 9, 6, 3, 5, 3, 8, 6, 3, 6, 1, 6, 4, 8, 3, 2, 2, 3, 2, 5, 6, 2, 4, 2, 1, 5, 7, 7, 1, 7, 8, 5, 2, 4, 3, 3, 1, 2, 1, 2, 2, 1, 8, 6, 4, 4, 1, 1, 1, 2, 2, 7, 7, 1, 4, 3, 2, 2, 3, 1, 2, 6, 5, 4, 2, 1, 1, 2, 1, 1, 6, 4, 3, 3, 6, 3, 5, 3, 1, 6, 6, 5, 1, 4, 2, 6, 2, 1, 8, 1, 2, 5, 1, 1, 2, 2, 3, 2, 2, 1, 1, 8, 1, 1, 2, 2, 3, 3, 1, 2, 2, 1, 2, 1, 1, 3, 4, 2, 2, 2, 7, 2, 3, 2, 1, 6, 2, 2, 5, 4, 2, 3, 3, 3, 2, 2, 3, 3, 2, 6, 5, 1, 1, 5, 2, 5, 5, 4, 1, 1, 2, 2, 5, 9, 2, 1, 5, 4, 3, 6, 6, 6, 5, 5, 1, 2, 5, 2, 9, 5, 5, 1, 4, 4, 3, 8, 1, 1, 3, 3, 5, 5, 6, 5, 6, 1, 2, 1, 5, 2, 5, 6, 2, 3, 2, 3, 4, 6, 4, 4, 2, 5, 2, 4, 4, 6, 7, 7, 5, 1, 5, 2, 6, 2, 2, 4, 5, 7, 1, 8, 7, 3, 2, 2, 4, 2, 1, 4, 6, 5, 2, 1, 2, 7, 1, 4, 4, 2, 2, 5, 3, 3, 3, 6, 1, 9, 5, 5, 5, 6, 1, 2, 6, 2, 8, 3, 5, 6, 2, 2, 3, 5, 3, 9, 2, 1, 2, 2, 2, 2, 5, 5, 5, 1, 2, 3, 4, 1, 3, 5, 1, 2, 2, 3, 3, 4, 2, 2, 5, 5, 1, 1, 6, 3, 2, 1, 1, 1, 3, 1, 2, 1, 5, 2, 3, 4, 2, 1, 6, 3, 2, 4, 8, 4, 2, 2, 6, 1, 2, 2, 3, 2, 7, 6, 2, 9, 1, 5, 2, 3, 3, 2, 2, 4, 4, 4, 1, 4, 2, 2, 4, 2, 3, 5, 3, 7, 2, 2, 8, 2, 6, 2, 5, 1, 5, 4, 1, 5, 3, 1, 7, 5, 1, 5, 3, 9, 2, 4, 1, 1, 5, 5, 4, 7, 3, 4, 5, 6, 2, 5, 2, 2, 7, 2, 8, 3, 1, 2, 1, 1, 2, 1, 5, 2, 2, 7, 3, 2, 1, 5, 7, 1, 4, 1, 6, 1, 3, 6, 1, 5, 5, 4, 2, 6, 2, 2, 5, 3, 6, 4, 2, 3, 1, 7, 5, 3, 1, 2, 2, 5, 1, 1, 3, 1, 5, 2, 1, 3, 2, 7, 2, 6, 3, 3, 6, 1, 2, 2, 3, 3, 3, 9, 1, 3, 6, 6, 5, 1, 2, 1, 5, 4, 2, 2, 3, 7, 2, 5, 3, 5, 7, 2, 1, 7, 8, 5, 1, 4, 4, 3, 4, 1, 8, 5, 5, 2, 4, 5, 6, 3, 5, 5, 1, 5, 1, 4, 3, 5, 1, 1, 2, 4, 1, 1, 2, 6, 6, 3, 5, 6, 2, 7, 4, 6, 3, 5, 4, 2, 6, 3, 3, 1, 5, 3, 7, 8, 8, 3, 1, 5, 4, 1, 6, 4, 2, 2, 3, 7, 3, 2, 1, 3, 6, 3, 2, 2, 2, 4, 8, 4, 7, 6, 5, 4, 2, 4, 3, 1, 4, 2, 5, 5, 2, 2, 3, 1, 1, 3, 2, 4, 3, 3, 5, 3, 1, 1, 1, 3, 5, 3, 1, 3, 2, 6, 6, 2, 8, 2, 1, 1, 2, 2, 1, 1, 5, 2, 4, 4, 6, 1, 5, 2, 3, 5, 2, 4, 5, 5, 2, 8, 2, 6, 1, 5, 8, 3, 4, 6, 5, 1, 1, 3, 3, 7, 7, 3, 3, 2, 5, 1, 8, 2, 8, 8, 1, 3, 2, 8, 4, 7, 3, 6, 4, 8, 1, 2, 5, 4, 8, 4, 5, 3, 5, 5, 4, 2, 3, 2, 6, 6, 8, 4, 7, 2, 1, 4, 2, 3, 1, 1, 2, 1, 3, 1, 5, 5, 4, 5, 6, 6, 5, 3, 5, 6, 3, 9, 6, 6, 1, 1, 4, 5, 9, 5, 6, 2, 1, 7, 3, 6, 4, 6, 2, 3, 2, 3, 4, 7, 2, 3, 8, 2, 1, 9, 2, 5, 1, 5, 2, 3, 4, 1, 5, 2, 2, 8, 3, 1, 4, 9, 5, 2, 2, 4, 3, 5, 5, 2, 3, 1, 2, 5, 5, 5, 7, 5, 5, 2, 3, 4, 2, 2, 1, 2, 6, 1, 2, 2, 1, 7, 1, 2, 2, 2, 4, 3, 3, 3, 3, 3, 5, 4, 5, 5, 5, 3, 8, 6, 1, 3, 6, 1, 5, 7, 3, 2, 3, 2, 5, 6, 2, 3, 2, 6, 2, 4, 2, 5, 1, 2, 7, 4, 2, 8, 1, 2, 2, 7, 1, 1, 6, 6, 2, 1, 5, 7, 3, 4, 5, 3, 3, 5, 6, 4, 3, 2, 6, 6, 6, 6, 1, 4, 2, 1, 6, 9, 3, 8, 2, 6, 1, 5, 1, 2, 6, 2, 2, 6, 1, 1, 5, 7, 4, 4, 1, 5, 2, 1, 1, 1, 4, 6, 6, 3, 2, 4, 1, 3, 6, 3, 4, 4, 6, 5, 4, 3, 4, 5, 2, 1, 2, 5, 3, 2, 7, 3, 5, 3, 6, 2, 3, 3, 4, 1, 5, 1, 6, 3, 3, 1, 1, 3, 3, 7, 6, 2, 3, 4, 5, 3, 4, 2, 2, 8, 1, 2, 1, 1, 2, 4, 1, 1, 3, 7, 3, 3, 2, 1, 3, 2, 8, 1, 1, 1, 3, 4, 3, 3, 1, 2, 8, 4, 1, 6, 2, 4, 2, 3, 1, 2, 2, 2, 2, 2, 4, 8, 5, 7, 2, 1]\n",
      "[[3]\n",
      " [2]\n",
      " [1]\n",
      " ...\n",
      " [7]\n",
      " [2]\n",
      " [1]]\n"
     ]
    }
   ],
   "source": [
    "# plt.imshow(data_gray)\n",
    "\n",
    "\n",
    "lableAr=np.array(lable)\n",
    "\n",
    "lableAr=lableAr.reshape(len(lable),1)\n",
    "\n",
    "\n",
    "print(lable)\n",
    "print(lableAr)"
   ]
  },
  {
   "cell_type": "code",
   "execution_count": 11,
   "metadata": {},
   "outputs": [],
   "source": [
    "\n",
    "hog_features = np.array(hog_features)\n",
    "data_frame = np.hstack((hog_features,lableAr))\n",
    "np.random.shuffle(data_frame)\n"
   ]
  },
  {
   "cell_type": "code",
   "execution_count": 27,
   "metadata": {},
   "outputs": [
    {
     "name": "stdout",
     "output_type": "stream",
     "text": [
      "(6829, 512)\n",
      "(512,)\n"
     ]
    }
   ],
   "source": [
    "# plt.imshow(hog_images[1])\n",
    "print(hog_features.shape)\n",
    "print(fd.shape)"
   ]
  },
  {
   "cell_type": "markdown",
   "metadata": {},
   "source": [
    "原"
   ]
  },
  {
   "cell_type": "code",
   "execution_count": 12,
   "metadata": {},
   "outputs": [],
   "source": [
    "#What percentage of data you want to keep for training\n",
    "percentage = 80\n",
    "partition = int(len(hog_features)*percentage/100)\n",
    "\n",
    "x_train, x_test = data_frame[:partition,:-1],  data_frame[partition:,:-1]\n",
    "y_train, y_test = data_frame[:partition,-1:].ravel() , data_frame[partition:,-1:].ravel()\n"
   ]
  },
  {
   "cell_type": "markdown",
   "metadata": {},
   "source": [
    "新"
   ]
  },
  {
   "cell_type": "code",
   "execution_count": 13,
   "metadata": {},
   "outputs": [],
   "source": [
    "#What percentage of data you want to keep for training\n",
    "percentage = 80\n",
    "partition = int(len(hog_features)*percentage/100)\n",
    "\n",
    "Vpercentage = 0.5\n",
    "\n",
    "\n",
    "x_train, x_test = data_frame[:partition,:-1],  data_frame[partition:,:-1]\n",
    "y_train, y_test = data_frame[:partition,-1:].ravel() , data_frame[partition:,-1:].ravel()"
   ]
  },
  {
   "cell_type": "code",
   "execution_count": 14,
   "metadata": {},
   "outputs": [],
   "source": [
    "\n",
    "a = int(len(x_test)*Vpercentage)\n",
    "\n",
    "x_Val=x_test[:a]\n",
    "y_Val=y_test[:a]\n",
    "\n",
    "x_T2=x_test[a:]\n",
    "y_T2=y_test[a:]"
   ]
  },
  {
   "cell_type": "code",
   "execution_count": 25,
   "metadata": {},
   "outputs": [
    {
     "name": "stdout",
     "output_type": "stream",
     "text": [
      "(5463, 512)\n"
     ]
    }
   ],
   "source": [
    "print(x_train.shape)"
   ]
  },
  {
   "cell_type": "code",
   "execution_count": 86,
   "metadata": {},
   "outputs": [
    {
     "name": "stdout",
     "output_type": "stream",
     "text": [
      "(1123,)\n",
      "(561,)\n"
     ]
    }
   ],
   "source": [
    "print(y_test.shape)\n",
    "print(y_Val.shape)"
   ]
  },
  {
   "cell_type": "code",
   "execution_count": 87,
   "metadata": {},
   "outputs": [
    {
     "name": "stdout",
     "output_type": "stream",
     "text": [
      "5611\n",
      "4488\n"
     ]
    }
   ],
   "source": [
    "print(len(hog_features))\n",
    "print(partition)"
   ]
  },
  {
   "cell_type": "code",
   "execution_count": 15,
   "metadata": {},
   "outputs": [],
   "source": [
    "\n",
    "\n",
    "#clf = SVC(gamma='auto')\n",
    "\n",
    "clf = svm.SVC()\n",
    "\n",
    "# tuned_parameters = {'kernel':['rbf'], 'gamma':[1e-4,1e-2,1e-4], 'C':[0.01, 0.1, 1, 10, 100]}\n",
    "# clf = GridSearchCV(SVC(), tuned_parameters)\n",
    "\n",
    "clf=svm.SVC(gamma='scale', decision_function_shape='ovo')\n",
    "\n"
   ]
  },
  {
   "cell_type": "code",
   "execution_count": 134,
   "metadata": {},
   "outputs": [],
   "source": [
    "# dec = clf.decision_function([[x_train[1]]])"
   ]
  },
  {
   "cell_type": "code",
   "execution_count": 16,
   "metadata": {},
   "outputs": [
    {
     "data": {
      "text/plain": [
       "SVC(C=1.0, cache_size=200, class_weight=None, coef0=0.0,\n",
       "    decision_function_shape='ovo', degree=3, gamma='scale', kernel='rbf',\n",
       "    max_iter=-1, probability=False, random_state=None, shrinking=True,\n",
       "    tol=0.001, verbose=False)"
      ]
     },
     "execution_count": 16,
     "metadata": {},
     "output_type": "execute_result"
    }
   ],
   "source": [
    "clf.fit(x_train,y_train)\n",
    "# y_pred = clf.predict(x_test)"
   ]
  },
  {
   "cell_type": "code",
   "execution_count": 17,
   "metadata": {},
   "outputs": [],
   "source": [
    "y_pred = clf.predict(x_test)"
   ]
  },
  {
   "cell_type": "code",
   "execution_count": 19,
   "metadata": {},
   "outputs": [
    {
     "data": {
      "text/plain": [
       "['train_model.m']"
      ]
     },
     "execution_count": 19,
     "metadata": {},
     "output_type": "execute_result"
    }
   ],
   "source": [
    "joblib.dump(clf, \"train_model.m\")"
   ]
  },
  {
   "cell_type": "code",
   "execution_count": 20,
   "metadata": {},
   "outputs": [
    {
     "ename": "AttributeError",
     "evalue": "'SVC' object has no attribute 'predit'",
     "output_type": "error",
     "traceback": [
      "\u001b[0;31m---------------------------------------------------------------------------\u001b[0m",
      "\u001b[0;31mAttributeError\u001b[0m                            Traceback (most recent call last)",
      "\u001b[0;32m<ipython-input-20-52acda12ccf5>\u001b[0m in \u001b[0;36m<module>\u001b[0;34m\u001b[0m\n\u001b[1;32m      1\u001b[0m \u001b[0mclf2\u001b[0m\u001b[0;34m=\u001b[0m\u001b[0mjoblib\u001b[0m\u001b[0;34m.\u001b[0m\u001b[0mload\u001b[0m\u001b[0;34m(\u001b[0m\u001b[0;34m\"train_model.m\"\u001b[0m\u001b[0;34m)\u001b[0m\u001b[0;34m\u001b[0m\u001b[0m\n\u001b[0;32m----> 2\u001b[0;31m \u001b[0mclf2\u001b[0m\u001b[0;34m.\u001b[0m\u001b[0mpredit\u001b[0m\u001b[0;34m(\u001b[0m\u001b[0mtest_X\u001b[0m\u001b[0;34m)\u001b[0m \u001b[0;31m#此处test_X为特征集\u001b[0m\u001b[0;34m\u001b[0m\u001b[0m\n\u001b[0m",
      "\u001b[0;31mAttributeError\u001b[0m: 'SVC' object has no attribute 'predit'"
     ]
    }
   ],
   "source": [
    "clf2=joblib.load(\"train_model.m\")\n",
    "clf2.predit(test_X) #此处test_X为特征集"
   ]
  },
  {
   "cell_type": "code",
   "execution_count": 18,
   "metadata": {},
   "outputs": [
    {
     "name": "stdout",
     "output_type": "stream",
     "text": [
      "Accuracy: 0.41142020497803805\n",
      "\n",
      "\n",
      "              precision    recall  f1-score   support\n",
      "\n",
      "         1.0       0.51      0.62      0.56       221\n",
      "         2.0       0.49      0.67      0.57       310\n",
      "         3.0       0.40      0.37      0.39       228\n",
      "         4.0       0.13      0.05      0.07       128\n",
      "         5.0       0.32      0.44      0.37       194\n",
      "         6.0       0.26      0.17      0.20       127\n",
      "         7.0       0.60      0.07      0.13        81\n",
      "         8.0       0.27      0.29      0.28        58\n",
      "         9.0       0.00      0.00      0.00        19\n",
      "\n",
      "    accuracy                           0.41      1366\n",
      "   macro avg       0.33      0.30      0.28      1366\n",
      "weighted avg       0.39      0.41      0.38      1366\n",
      "\n"
     ]
    },
    {
     "name": "stderr",
     "output_type": "stream",
     "text": [
      "/usr/local/lib/python3.5/dist-packages/sklearn/metrics/classification.py:1437: UndefinedMetricWarning: Precision and F-score are ill-defined and being set to 0.0 in labels with no predicted samples.\n",
      "  'precision', 'predicted', average, warn_for)\n"
     ]
    }
   ],
   "source": [
    "print(\"Accuracy: \"+str(accuracy_score(y_test, y_pred)))\n",
    "print('\\n')\n",
    "print(classification_report(y_test, y_pred))"
   ]
  },
  {
   "cell_type": "code",
   "execution_count": 136,
   "metadata": {},
   "outputs": [],
   "source": [
    "y_pred_Val = clf.predict(x_Val)"
   ]
  },
  {
   "cell_type": "code",
   "execution_count": 137,
   "metadata": {},
   "outputs": [
    {
     "name": "stdout",
     "output_type": "stream",
     "text": [
      "Accuracy: 0.6114081996434938\n",
      "\n",
      "\n",
      "              precision    recall  f1-score   support\n",
      "\n",
      "         1.0       0.72      0.85      0.78       254\n",
      "         2.0       0.41      0.47      0.44       154\n",
      "         3.0       0.62      0.41      0.50       122\n",
      "         4.0       0.71      0.16      0.26        31\n",
      "\n",
      "    accuracy                           0.61       561\n",
      "   macro avg       0.62      0.47      0.49       561\n",
      "weighted avg       0.61      0.61      0.60       561\n",
      "\n"
     ]
    }
   ],
   "source": [
    "print(\"Accuracy: \"+str(accuracy_score(y_Val, y_pred_Val)))\n",
    "print('\\n')\n",
    "print(classification_report(y_Val, y_pred_Val))"
   ]
  },
  {
   "cell_type": "code",
   "execution_count": 29,
   "metadata": {},
   "outputs": [],
   "source": [
    "# # print(y_test[:100])\n",
    "# print(\"y_val\")\n",
    "# print(\"原本   结果\")\n",
    "# for i in range (100):\n",
    "#     if((y_test[i]==y_pred[i])):\n",
    "#         print(\"%d      %d------%d\" %(y_Val[i],y_pred_Val[i],(y_Val[i]==y_pred_Val[i])))\n",
    "#     else:\n",
    "#         print('\\033[1;35m%d      %d\\033[0m------%d'%(y_Val[i],y_pred_Val[i],(y_Val[i]==y_pred_Val[i])))"
   ]
  },
  {
   "cell_type": "code",
   "execution_count": 71,
   "metadata": {},
   "outputs": [
    {
     "name": "stdout",
     "output_type": "stream",
     "text": [
      "Class: 10-19 sum: 242 match 147 accuracy 0.607438\n",
      "Class: 20-29 sum: 294 match 204 accuracy 0.693878\n",
      "Class: 30-39 sum: 204 match 69 accuracy 0.338235\n",
      "Class: 40-49 sum: 147 match 4 accuracy 0.027211\n",
      "Class: 50-59 sum: 186 match 84 accuracy 0.451613\n",
      "Class: 60-69 sum: 124 match 17 accuracy 0.137097\n",
      "Class: 70-79 sum: 75 match 8 accuracy 0.106667\n",
      "Class: 80-89 sum: 77 match 14 accuracy 0.181818\n",
      "Class: 90-99 sum: 17 match 0 accuracy 0.000000\n",
      "Overall accuracy: 0.400439\n"
     ]
    }
   ],
   "source": [
    "\n",
    "Class=1;\n",
    "\n",
    "for y in range(9):\n",
    "    Class=y+1\n",
    "    countT=0\n",
    "    countM=0\n",
    "    for i in range (len(y_test)):\n",
    "        if(y_test[i]==Class):\n",
    "            countT=countT+1\n",
    "            if(y_test[i]==y_pred[i]):\n",
    "                countM=countM+1\n",
    "#     print(\"Class: %d %d count %d accuracy %f\" %(Class,countT,countM,countM/countT))\n",
    "#     print(\"Class: %d sum: %d match %d accuracy %f\" %(Class,countT,countM,countM/countT))\n",
    "    print(\"Class: %d-%d sum: %d match %d accuracy %f\" %(Class*10,Class*10+9,countT,countM,countM/countT))\n",
    "print(\"Overall accuracy: %f\" % accuracy_score(y_test, y_pred))"
   ]
  },
  {
   "cell_type": "code",
   "execution_count": 58,
   "metadata": {},
   "outputs": [],
   "source": [
    "# Class=1;\n",
    "\n",
    "\n",
    "# Class=4\n",
    "# countT=0\n",
    "# countM=0\n",
    "# count5=0\n",
    "# count6=0\n",
    "# count3=0\n",
    "# count2=0\n",
    "# count1=0\n",
    "# for i in range (len(y_test)):\n",
    "#     if(y_test[i]==Class):\n",
    "#         countT=countT+1\n",
    "#         if(y_test[i]==y_pred[i]):\n",
    "#             countM=countM+1\n",
    "#         else:\n",
    "#             print(y_pred[i])\n",
    "            \n",
    "# #     print(\"Class: %d %d count %d accuracy %f\" %(Class,countT,countM,countM/countT))\n",
    "# print(\"Class: %d sum: %d match %d accuracy %f\" %(Class,countT,countM,countM/countT))"
   ]
  },
  {
   "cell_type": "code",
   "execution_count": null,
   "metadata": {},
   "outputs": [],
   "source": [
    "img_length = 80\n",
    "\n",
    "# os.chdir(root_path)\n",
    "testdata=os.listdir(\"test\")\n",
    "    img = cv2.imread(\"test/\"+datalist[i])\n",
    "    if type(img) is np.ndarray:\n",
    "        img = cv2.cvtColor(img, cv2.COLOR_BGR2RGB)\n",
    "        rm = cv2.resize(img,(img_length,img_length))\n",
    "\n",
    "image = plt.imshow(data_gray[2])\n",
    "fd,hog_image = hog(image, orientations=8, pixels_per_cell=(ppc,ppc),cells_per_block=(4, 4),block_norm= 'L2',visualise=True)\n",
    "\n",
    "\n",
    "\n"
   ]
  },
  {
   "cell_type": "code",
   "execution_count": 77,
   "metadata": {},
   "outputs": [
    {
     "name": "stdout",
     "output_type": "stream",
     "text": [
      "['test5.png', 'test1.png', 'test4.png']\n"
     ]
    }
   ],
   "source": [
    "testdata=os.listdir(\"test\")\n",
    "print(testdata)"
   ]
  },
  {
   "cell_type": "code",
   "execution_count": 23,
   "metadata": {},
   "outputs": [
    {
     "name": "stdout",
     "output_type": "stream",
     "text": [
      "原本   结果\n",
      "2      2------1\n",
      "\u001b[1;35m7      5\u001b[0m------0\n",
      "\u001b[1;35m9      7\u001b[0m------0\n",
      "1      1------1\n",
      "\u001b[1;35m5      1\u001b[0m------0\n",
      "2      2------1\n",
      "\u001b[1;35m4      3\u001b[0m------0\n",
      "\u001b[1;35m5      1\u001b[0m------0\n",
      "\u001b[1;35m1      2\u001b[0m------0\n",
      "\u001b[1;35m2      3\u001b[0m------0\n",
      "7      7------1\n",
      "\u001b[1;35m1      2\u001b[0m------0\n",
      "\u001b[1;35m1      5\u001b[0m------0\n",
      "\u001b[1;35m5      3\u001b[0m------0\n",
      "\u001b[1;35m6      1\u001b[0m------0\n",
      "\u001b[1;35m4      5\u001b[0m------0\n",
      "\u001b[1;35m7      5\u001b[0m------0\n",
      "\u001b[1;35m5      6\u001b[0m------0\n",
      "1      1------1\n",
      "\u001b[1;35m8      5\u001b[0m------0\n",
      "2      2------1\n",
      "5      5------1\n",
      "\u001b[1;35m4      3\u001b[0m------0\n",
      "\u001b[1;35m7      1\u001b[0m------0\n",
      "2      2------1\n",
      "5      5------1\n",
      "\u001b[1;35m5      2\u001b[0m------0\n",
      "2      2------1\n",
      "2      2------1\n",
      "2      2------1\n",
      "\u001b[1;35m3      2\u001b[0m------0\n",
      "\u001b[1;35m1      2\u001b[0m------0\n",
      "\u001b[1;35m2      1\u001b[0m------0\n",
      "\u001b[1;35m7      5\u001b[0m------0\n",
      "\u001b[1;35m8      6\u001b[0m------0\n",
      "\u001b[1;35m7      4\u001b[0m------0\n",
      "3      3------1\n",
      "\u001b[1;35m2      5\u001b[0m------0\n",
      "1      1------1\n",
      "\u001b[1;35m8      2\u001b[0m------0\n",
      "2      2------1\n",
      "\u001b[1;35m7      8\u001b[0m------0\n",
      "2      2------1\n",
      "\u001b[1;35m6      5\u001b[0m------0\n",
      "\u001b[1;35m2      3\u001b[0m------0\n",
      "5      5------1\n",
      "\u001b[1;35m5      2\u001b[0m------0\n",
      "5      5------1\n",
      "2      2------1\n",
      "5      5------1\n",
      "\u001b[1;35m6      5\u001b[0m------0\n",
      "\u001b[1;35m1      3\u001b[0m------0\n",
      "2      2------1\n",
      "1      1------1\n",
      "2      2------1\n",
      "3      3------1\n",
      "\u001b[1;35m8      6\u001b[0m------0\n",
      "\u001b[1;35m6      2\u001b[0m------0\n",
      "\u001b[1;35m8      6\u001b[0m------0\n",
      "\u001b[1;35m3      2\u001b[0m------0\n",
      "\u001b[1;35m5      1\u001b[0m------0\n",
      "\u001b[1;35m8      5\u001b[0m------0\n",
      "\u001b[1;35m7      6\u001b[0m------0\n",
      "\u001b[1;35m7      2\u001b[0m------0\n",
      "2      2------1\n",
      "2      2------1\n",
      "2      2------1\n",
      "3      3------1\n",
      "\u001b[1;35m2      3\u001b[0m------0\n",
      "1      1------1\n",
      "\u001b[1;35m3      5\u001b[0m------0\n",
      "\u001b[1;35m6      5\u001b[0m------0\n",
      "\u001b[1;35m4      6\u001b[0m------0\n",
      "5      5------1\n",
      "\u001b[1;35m8      6\u001b[0m------0\n",
      "3      3------1\n",
      "\u001b[1;35m2      1\u001b[0m------0\n",
      "2      2------1\n",
      "\u001b[1;35m2      3\u001b[0m------0\n",
      "\u001b[1;35m4      3\u001b[0m------0\n",
      "\u001b[1;35m1      2\u001b[0m------0\n",
      "\u001b[1;35m3      2\u001b[0m------0\n",
      "\u001b[1;35m6      2\u001b[0m------0\n",
      "3      3------1\n",
      "\u001b[1;35m5      3\u001b[0m------0\n",
      "\u001b[1;35m5      2\u001b[0m------0\n",
      "1      1------1\n",
      "1      1------1\n",
      "1      1------1\n",
      "\u001b[1;35m1      2\u001b[0m------0\n",
      "5      5------1\n",
      "\u001b[1;35m6      5\u001b[0m------0\n",
      "5      5------1\n",
      "\u001b[1;35m7      5\u001b[0m------0\n",
      "\u001b[1;35m8      5\u001b[0m------0\n",
      "\u001b[1;35m3      2\u001b[0m------0\n",
      "1      1------1\n",
      "1      1------1\n",
      "\u001b[1;35m5      3\u001b[0m------0\n",
      "2      2------1\n"
     ]
    }
   ],
   "source": [
    "\n",
    "\n",
    "# print(y_pred[:200])\n",
    "\n",
    "# print(datalist[1])\n",
    "\n",
    "print(\"原本   结果\")\n",
    "for i in range (100):\n",
    "    if((y_test[i]==y_pred[i])):\n",
    "        print(\"%d      %d------%d\" %(y_test[i],y_pred[i],(y_test[i]==y_pred[i])))\n",
    "    else:\n",
    "        print('\\033[1;35m%d      %d\\033[0m------%d'%(y_test[i],y_pred[i],(y_test[i]==y_pred[i])))\n",
    "        "
   ]
  },
  {
   "cell_type": "code",
   "execution_count": 63,
   "metadata": {},
   "outputs": [],
   "source": [
    "# f = open('shipsnet.json')\n",
    "# dataset = json.load(f)\n",
    "# f.close()\n",
    "\n",
    "# dataset.keys()"
   ]
  },
  {
   "cell_type": "code",
   "execution_count": 30,
   "metadata": {},
   "outputs": [],
   "source": [
    "# labels =  np.array(dataset['labels']).reshape(len(dataset['labels']),1)"
   ]
  },
  {
   "cell_type": "code",
   "execution_count": 39,
   "metadata": {},
   "outputs": [],
   "source": [
    "# print(labels[500:1000])"
   ]
  },
  {
   "cell_type": "code",
   "execution_count": 99,
   "metadata": {},
   "outputs": [],
   "source": [
    "# import numpy as np\n",
    "# X = np.array([[-1, -1], [-2, -1], [1, 1], [2, 1]])\n",
    "# y = np.array([1, 1, 2, 2])\n",
    "# from sklearn.svm import SVC\n",
    "# clf = SVC(gamma='auto')\n",
    "# clf.fit(X, y) \n",
    "# SVC(C=1.0, cache_size=200, class_weight=None, coef0=0.0,\n",
    "#     decision_function_shape='ovr', degree=3, gamma='auto', kernel='rbf',\n",
    "#     max_iter=-1, probability=False, random_state=None, shrinking=True,\n",
    "#     tol=0.001, verbose=False)\n"
   ]
  },
  {
   "cell_type": "code",
   "execution_count": 72,
   "metadata": {},
   "outputs": [
    {
     "data": {
      "text/plain": [
       "RandomForestClassifier(bootstrap=True, class_weight=None, criterion='gini',\n",
       "                       max_depth=None, max_features='auto', max_leaf_nodes=None,\n",
       "                       min_impurity_decrease=0.0, min_impurity_split=None,\n",
       "                       min_samples_leaf=1, min_samples_split=2,\n",
       "                       min_weight_fraction_leaf=0.0, n_estimators=200,\n",
       "                       n_jobs=None, oob_score=False, random_state=28, verbose=0,\n",
       "                       warm_start=False)"
      ]
     },
     "execution_count": 72,
     "metadata": {},
     "output_type": "execute_result"
    }
   ],
   "source": [
    "\n",
    "\n",
    "# from sklearn.ensemble import RandomForestClassifier\n",
    "\n",
    "RandomForestClassifier(bootstrap=True, class_weight=None, criterion='gini',\n",
    "            max_depth=20, max_features='auto', max_leaf_nodes=None,\n",
    "            min_impurity_decrease=0.0, min_impurity_split=None,\n",
    "            min_samples_leaf=1, min_samples_split=2,\n",
    "            min_weight_fraction_leaf=0.0, n_estimators=80, n_jobs=None,\n",
    "            oob_score=False, random_state=0, verbose=0, warm_start=False)\n",
    "\n",
    "\n",
    "mod = RandomForestClassifier(n_estimators=200, random_state=28)\n",
    "mod.fit(x_train,y_train)\n",
    "# y_pred_Val = mod.predict(x_Val)"
   ]
  },
  {
   "cell_type": "code",
   "execution_count": 73,
   "metadata": {},
   "outputs": [],
   "source": [
    "y_pred=mod.predict(x_test)"
   ]
  },
  {
   "cell_type": "code",
   "execution_count": 130,
   "metadata": {},
   "outputs": [
    {
     "name": "stdout",
     "output_type": "stream",
     "text": [
      "Accuracy: 0.5846702317290553\n",
      "\n",
      "\n",
      "              precision    recall  f1-score   support\n",
      "\n",
      "         1.0       0.66      0.89      0.76       254\n",
      "         2.0       0.45      0.47      0.46       154\n",
      "         3.0       0.52      0.21      0.30       122\n",
      "         4.0       0.50      0.06      0.11        31\n",
      "\n",
      "    accuracy                           0.58       561\n",
      "   macro avg       0.53      0.41      0.41       561\n",
      "weighted avg       0.56      0.58      0.54       561\n",
      "\n"
     ]
    }
   ],
   "source": [
    "print(\"Accuracy: \"+str(accuracy_score(y_Val, y_pred_Val)))\n",
    "print('\\n')\n",
    "print(classification_report(y_Val, y_pred_Val))"
   ]
  },
  {
   "cell_type": "code",
   "execution_count": 132,
   "metadata": {},
   "outputs": [
    {
     "name": "stdout",
     "output_type": "stream",
     "text": [
      "Accuracy: 0.5668449197860963\n",
      "\n",
      "\n",
      "              precision    recall  f1-score   support\n",
      "\n",
      "         1.0       0.66      0.87      0.75       254\n",
      "         2.0       0.41      0.45      0.43       154\n",
      "         3.0       0.47      0.18      0.26       122\n",
      "         4.0       0.67      0.13      0.22        31\n",
      "\n",
      "    accuracy                           0.57       561\n",
      "   macro avg       0.55      0.41      0.41       561\n",
      "weighted avg       0.55      0.57      0.53       561\n",
      "\n"
     ]
    }
   ],
   "source": [
    "print(\"Accuracy: \"+str(accuracy_score(y_Val, y_pred_Val)))\n",
    "print('\\n')\n",
    "print(classification_report(y_Val, y_pred_Val))"
   ]
  },
  {
   "cell_type": "code",
   "execution_count": 66,
   "metadata": {},
   "outputs": [
    {
     "name": "stdout",
     "output_type": "stream",
     "text": [
      "Accuracy: 0.35724743777452417\n",
      "\n",
      "\n",
      "              precision    recall  f1-score   support\n",
      "\n",
      "         1.0       0.47      0.48      0.47       242\n",
      "         2.0       0.41      0.72      0.52       294\n",
      "         3.0       0.27      0.22      0.24       204\n",
      "         4.0       0.14      0.02      0.04       147\n",
      "         5.0       0.27      0.45      0.33       186\n",
      "         6.0       0.23      0.11      0.15       124\n",
      "         7.0       0.47      0.12      0.19        75\n",
      "         8.0       0.29      0.10      0.15        77\n",
      "         9.0       0.00      0.00      0.00        17\n",
      "\n",
      "    accuracy                           0.36      1366\n",
      "   macro avg       0.28      0.25      0.23      1366\n",
      "weighted avg       0.33      0.36      0.31      1366\n",
      "\n"
     ]
    },
    {
     "name": "stderr",
     "output_type": "stream",
     "text": [
      "/usr/local/lib/python3.5/dist-packages/sklearn/metrics/classification.py:1437: UndefinedMetricWarning: Precision and F-score are ill-defined and being set to 0.0 in labels with no predicted samples.\n",
      "  'precision', 'predicted', average, warn_for)\n"
     ]
    }
   ],
   "source": [
    "print(\"Accuracy: \"+str(accuracy_score(y_test, y_pred)))\n",
    "print('\\n')\n",
    "print(classification_report(y_test, y_pred))"
   ]
  },
  {
   "cell_type": "code",
   "execution_count": 74,
   "metadata": {},
   "outputs": [
    {
     "name": "stdout",
     "output_type": "stream",
     "text": [
      "Class: 10-19 sum: 242 match 116 accuracy 0.479339\n",
      "Class: 20-29 sum: 294 match 211 accuracy 0.717687\n",
      "Class: 30-39 sum: 204 match 44 accuracy 0.215686\n",
      "Class: 40-49 sum: 147 match 3 accuracy 0.020408\n",
      "Class: 50-59 sum: 186 match 83 accuracy 0.446237\n",
      "Class: 60-69 sum: 124 match 14 accuracy 0.112903\n",
      "Class: 70-79 sum: 75 match 9 accuracy 0.120000\n",
      "Class: 80-89 sum: 77 match 8 accuracy 0.103896\n",
      "Class: 90-99 sum: 17 match 0 accuracy 0.000000\n",
      "Overall accuracy: 0.357247\n"
     ]
    }
   ],
   "source": [
    "\n",
    "Class=1;\n",
    "\n",
    "for y in range(9):\n",
    "    Class=y+1\n",
    "    countT=0\n",
    "    countM=0\n",
    "    for i in range (len(y_test)):\n",
    "        if(y_test[i]==Class):\n",
    "            countT=countT+1\n",
    "            if(y_test[i]==y_pred[i]):\n",
    "                countM=countM+1\n",
    "#     print(\"Class: %d %d count %d accuracy %f\" %(Class,countT,countM,countM/countT))\n",
    "#     print(\"Class: %d sum: %d match %d accuracy %f\" %(Class,countT,countM,countM/countT))\n",
    "    print(\"Class: %d-%d sum: %d match %d accuracy %f\" %(Class*10,Class*10+9,countT,countM,countM/countT))\n",
    "print(\"Overall accuracy: %f\" % accuracy_score(y_test, y_pred))"
   ]
  },
  {
   "cell_type": "code",
   "execution_count": null,
   "metadata": {},
   "outputs": [],
   "source": []
  },
  {
   "cell_type": "code",
   "execution_count": 139,
   "metadata": {},
   "outputs": [
    {
     "name": "stdout",
     "output_type": "stream",
     "text": [
      "原本   结果\n",
      "\u001b[1;35m4      3\u001b[0m------0\n",
      "1      1------1\n",
      "2      2------1\n",
      "1      1------1\n",
      "\u001b[1;35m2      1\u001b[0m------0\n",
      "2      2------1\n",
      "1      1------1\n",
      "\u001b[1;35m4      3\u001b[0m------0\n",
      "2      2------1\n",
      "1      1------1\n",
      "\u001b[1;35m1      2\u001b[0m------0\n",
      "1      1------1\n",
      "\u001b[1;35m3      4\u001b[0m------0\n",
      "\u001b[1;35m3      2\u001b[0m------0\n",
      "\u001b[1;35m2      1\u001b[0m------0\n",
      "1      1------1\n",
      "1      1------1\n",
      "3      3------1\n",
      "2      2------1\n",
      "1      1------1\n",
      "1      1------1\n",
      "2      2------1\n",
      "1      1------1\n",
      "1      1------1\n",
      "1      1------1\n",
      "1      1------1\n",
      "\u001b[1;35m2      1\u001b[0m------0\n",
      "1      1------1\n",
      "\u001b[1;35m2      1\u001b[0m------0\n",
      "\u001b[1;35m2      1\u001b[0m------0\n",
      "\u001b[1;35m2      1\u001b[0m------0\n",
      "1      1------1\n",
      "1      1------1\n",
      "\u001b[1;35m2      1\u001b[0m------0\n",
      "1      1------1\n",
      "\u001b[1;35m3      2\u001b[0m------0\n",
      "1      1------1\n",
      "\u001b[1;35m2      3\u001b[0m------0\n",
      "2      2------1\n",
      "1      1------1\n",
      "\u001b[1;35m2      3\u001b[0m------0\n",
      "\u001b[1;35m4      2\u001b[0m------0\n",
      "2      2------1\n",
      "3      3------1\n",
      "\u001b[1;35m1      2\u001b[0m------0\n",
      "2      2------1\n",
      "\u001b[1;35m3      1\u001b[0m------0\n",
      "2      2------1\n",
      "2      2------1\n",
      "\u001b[1;35m1      2\u001b[0m------0\n",
      "1      1------1\n",
      "1      1------1\n",
      "1      1------1\n",
      "1      1------1\n",
      "1      1------1\n",
      "\u001b[1;35m3      1\u001b[0m------0\n",
      "\u001b[1;35m2      1\u001b[0m------0\n",
      "\u001b[1;35m3      1\u001b[0m------0\n",
      "1      1------1\n",
      "\u001b[1;35m2      1\u001b[0m------0\n",
      "1      1------1\n",
      "\u001b[1;35m4      3\u001b[0m------0\n",
      "1      1------1\n",
      "1      1------1\n",
      "1      1------1\n",
      "\u001b[1;35m2      1\u001b[0m------0\n",
      "1      1------1\n",
      "1      1------1\n",
      "1      1------1\n",
      "\u001b[1;35m2      1\u001b[0m------0\n",
      "\u001b[1;35m4      3\u001b[0m------0\n",
      "3      3------1\n",
      "\u001b[1;35m2      1\u001b[0m------0\n",
      "\u001b[1;35m4      2\u001b[0m------0\n",
      "3      3------1\n",
      "\u001b[1;35m3      2\u001b[0m------0\n",
      "1      1------1\n",
      "\u001b[1;35m2      1\u001b[0m------0\n",
      "\u001b[1;35m4      2\u001b[0m------0\n",
      "\u001b[1;35m3      1\u001b[0m------0\n",
      "1      1------1\n",
      "\u001b[1;35m3      2\u001b[0m------0\n",
      "\u001b[1;35m2      1\u001b[0m------0\n",
      "1      1------1\n",
      "1      1------1\n",
      "2      2------1\n",
      "1      1------1\n",
      "\u001b[1;35m3      2\u001b[0m------0\n",
      "1      1------1\n",
      "3      3------1\n",
      "\u001b[1;35m1      2\u001b[0m------0\n",
      "1      1------1\n",
      "1      1------1\n",
      "1      1------1\n",
      "2      2------1\n",
      "\u001b[1;35m1      2\u001b[0m------0\n",
      "1      1------1\n",
      "\u001b[1;35m2      1\u001b[0m------0\n",
      "1      1------1\n",
      "\u001b[1;35m3      1\u001b[0m------0\n"
     ]
    }
   ],
   "source": [
    "\n",
    "\n",
    "# print(y_pred[:200])\n",
    "\n",
    "# print(datalist[1])\n",
    "\n",
    "print(\"原本   结果\")\n",
    "for i in range (100):\n",
    "    if((y_test[i]==y_pred[i])):\n",
    "        print(\"%d      %d------%d\" %(y_test[i],y_pred[i],(y_test[i]==y_pred[i])))\n",
    "    else:\n",
    "        print('\\033[1;35m%d      %d\\033[0m------%d'%(y_test[i],y_pred[i],(y_test[i]==y_pred[i])))"
   ]
  },
  {
   "cell_type": "code",
   "execution_count": null,
   "metadata": {},
   "outputs": [],
   "source": []
  }
 ],
 "metadata": {
  "kernelspec": {
   "display_name": "Python 3",
   "language": "python",
   "name": "python3"
  },
  "language_info": {
   "codemirror_mode": {
    "name": "ipython",
    "version": 3
   },
   "file_extension": ".py",
   "mimetype": "text/x-python",
   "name": "python",
   "nbconvert_exporter": "python",
   "pygments_lexer": "ipython3",
   "version": "3.5.3"
  }
 },
 "nbformat": 4,
 "nbformat_minor": 2
}
